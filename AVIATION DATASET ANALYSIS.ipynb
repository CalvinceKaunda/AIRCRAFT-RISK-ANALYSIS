{
 "cells": [
  {
   "cell_type": "markdown",
   "metadata": {},
   "source": [
    "# AVIATION DATASET ANALYSIS\n",
    "This analysis involves data from kaggle with information about accidents for different aircraft categories, makes, models, date, fatality, aircraft damage."
   ]
  },
  {
   "cell_type": "markdown",
   "metadata": {},
   "source": [
    "## Business Problem\n",
    "Our company is entering aviation industry to operate planes for private and commercial use but the company lacks understanding of the risks involved in aircraft operations"
   ]
  },
  {
   "cell_type": "markdown",
   "metadata": {},
   "source": [
    "## Objective of this analysis\n",
    "Our task is to analyse the dataset and identify lowest-risk aircraft types for the company to consider."
   ]
  },
  {
   "cell_type": "markdown",
   "metadata": {},
   "source": [
    "### Load the aviation dataset with pandas\n",
    "Load the dataset and import necessary libraries necessary for analysis"
   ]
  },
  {
   "cell_type": "code",
   "execution_count": 69,
   "metadata": {},
   "outputs": [],
   "source": [
    "#import pandas, matplot and numpy as default aliases\n",
    "import pandas as pd\n",
    "\n",
    "import matplotlib.pyplot as plt"
   ]
  },
  {
   "cell_type": "code",
   "execution_count": 70,
   "metadata": {},
   "outputs": [
    {
     "data": {
      "text/html": [
       "<div>\n",
       "<style scoped>\n",
       "    .dataframe tbody tr th:only-of-type {\n",
       "        vertical-align: middle;\n",
       "    }\n",
       "\n",
       "    .dataframe tbody tr th {\n",
       "        vertical-align: top;\n",
       "    }\n",
       "\n",
       "    .dataframe thead th {\n",
       "        text-align: right;\n",
       "    }\n",
       "</style>\n",
       "<table border=\"1\" class=\"dataframe\">\n",
       "  <thead>\n",
       "    <tr style=\"text-align: right;\">\n",
       "      <th></th>\n",
       "      <th>Event.Id</th>\n",
       "      <th>Investigation.Type</th>\n",
       "      <th>Accident.Number</th>\n",
       "      <th>Event.Date</th>\n",
       "      <th>Location</th>\n",
       "      <th>Country</th>\n",
       "      <th>Latitude</th>\n",
       "      <th>Longitude</th>\n",
       "      <th>Airport.Code</th>\n",
       "      <th>Airport.Name</th>\n",
       "      <th>...</th>\n",
       "      <th>Purpose.of.flight</th>\n",
       "      <th>Air.carrier</th>\n",
       "      <th>Total.Fatal.Injuries</th>\n",
       "      <th>Total.Serious.Injuries</th>\n",
       "      <th>Total.Minor.Injuries</th>\n",
       "      <th>Total.Uninjured</th>\n",
       "      <th>Weather.Condition</th>\n",
       "      <th>Broad.phase.of.flight</th>\n",
       "      <th>Report.Status</th>\n",
       "      <th>Publication.Date</th>\n",
       "    </tr>\n",
       "  </thead>\n",
       "  <tbody>\n",
       "    <tr>\n",
       "      <th>0</th>\n",
       "      <td>20001218X45444</td>\n",
       "      <td>Accident</td>\n",
       "      <td>SEA87LA080</td>\n",
       "      <td>1948-10-24</td>\n",
       "      <td>MOOSE CREEK, ID</td>\n",
       "      <td>United States</td>\n",
       "      <td>NaN</td>\n",
       "      <td>NaN</td>\n",
       "      <td>NaN</td>\n",
       "      <td>NaN</td>\n",
       "      <td>...</td>\n",
       "      <td>Personal</td>\n",
       "      <td>NaN</td>\n",
       "      <td>2.0</td>\n",
       "      <td>0.0</td>\n",
       "      <td>0.0</td>\n",
       "      <td>0.0</td>\n",
       "      <td>UNK</td>\n",
       "      <td>Cruise</td>\n",
       "      <td>Probable Cause</td>\n",
       "      <td>NaN</td>\n",
       "    </tr>\n",
       "    <tr>\n",
       "      <th>1</th>\n",
       "      <td>20001218X45447</td>\n",
       "      <td>Accident</td>\n",
       "      <td>LAX94LA336</td>\n",
       "      <td>1962-07-19</td>\n",
       "      <td>BRIDGEPORT, CA</td>\n",
       "      <td>United States</td>\n",
       "      <td>NaN</td>\n",
       "      <td>NaN</td>\n",
       "      <td>NaN</td>\n",
       "      <td>NaN</td>\n",
       "      <td>...</td>\n",
       "      <td>Personal</td>\n",
       "      <td>NaN</td>\n",
       "      <td>4.0</td>\n",
       "      <td>0.0</td>\n",
       "      <td>0.0</td>\n",
       "      <td>0.0</td>\n",
       "      <td>UNK</td>\n",
       "      <td>Unknown</td>\n",
       "      <td>Probable Cause</td>\n",
       "      <td>19-09-1996</td>\n",
       "    </tr>\n",
       "    <tr>\n",
       "      <th>2</th>\n",
       "      <td>20061025X01555</td>\n",
       "      <td>Accident</td>\n",
       "      <td>NYC07LA005</td>\n",
       "      <td>1974-08-30</td>\n",
       "      <td>Saltville, VA</td>\n",
       "      <td>United States</td>\n",
       "      <td>36.922223</td>\n",
       "      <td>-81.878056</td>\n",
       "      <td>NaN</td>\n",
       "      <td>NaN</td>\n",
       "      <td>...</td>\n",
       "      <td>Personal</td>\n",
       "      <td>NaN</td>\n",
       "      <td>3.0</td>\n",
       "      <td>NaN</td>\n",
       "      <td>NaN</td>\n",
       "      <td>NaN</td>\n",
       "      <td>IMC</td>\n",
       "      <td>Cruise</td>\n",
       "      <td>Probable Cause</td>\n",
       "      <td>26-02-2007</td>\n",
       "    </tr>\n",
       "    <tr>\n",
       "      <th>3</th>\n",
       "      <td>20001218X45448</td>\n",
       "      <td>Accident</td>\n",
       "      <td>LAX96LA321</td>\n",
       "      <td>1977-06-19</td>\n",
       "      <td>EUREKA, CA</td>\n",
       "      <td>United States</td>\n",
       "      <td>NaN</td>\n",
       "      <td>NaN</td>\n",
       "      <td>NaN</td>\n",
       "      <td>NaN</td>\n",
       "      <td>...</td>\n",
       "      <td>Personal</td>\n",
       "      <td>NaN</td>\n",
       "      <td>2.0</td>\n",
       "      <td>0.0</td>\n",
       "      <td>0.0</td>\n",
       "      <td>0.0</td>\n",
       "      <td>IMC</td>\n",
       "      <td>Cruise</td>\n",
       "      <td>Probable Cause</td>\n",
       "      <td>12-09-2000</td>\n",
       "    </tr>\n",
       "    <tr>\n",
       "      <th>4</th>\n",
       "      <td>20041105X01764</td>\n",
       "      <td>Accident</td>\n",
       "      <td>CHI79FA064</td>\n",
       "      <td>1979-08-02</td>\n",
       "      <td>Canton, OH</td>\n",
       "      <td>United States</td>\n",
       "      <td>NaN</td>\n",
       "      <td>NaN</td>\n",
       "      <td>NaN</td>\n",
       "      <td>NaN</td>\n",
       "      <td>...</td>\n",
       "      <td>Personal</td>\n",
       "      <td>NaN</td>\n",
       "      <td>1.0</td>\n",
       "      <td>2.0</td>\n",
       "      <td>NaN</td>\n",
       "      <td>0.0</td>\n",
       "      <td>VMC</td>\n",
       "      <td>Approach</td>\n",
       "      <td>Probable Cause</td>\n",
       "      <td>16-04-1980</td>\n",
       "    </tr>\n",
       "  </tbody>\n",
       "</table>\n",
       "<p>5 rows × 31 columns</p>\n",
       "</div>"
      ],
      "text/plain": [
       "         Event.Id Investigation.Type Accident.Number  Event.Date  \\\n",
       "0  20001218X45444           Accident      SEA87LA080  1948-10-24   \n",
       "1  20001218X45447           Accident      LAX94LA336  1962-07-19   \n",
       "2  20061025X01555           Accident      NYC07LA005  1974-08-30   \n",
       "3  20001218X45448           Accident      LAX96LA321  1977-06-19   \n",
       "4  20041105X01764           Accident      CHI79FA064  1979-08-02   \n",
       "\n",
       "          Location        Country   Latitude   Longitude Airport.Code  \\\n",
       "0  MOOSE CREEK, ID  United States        NaN         NaN          NaN   \n",
       "1   BRIDGEPORT, CA  United States        NaN         NaN          NaN   \n",
       "2    Saltville, VA  United States  36.922223  -81.878056          NaN   \n",
       "3       EUREKA, CA  United States        NaN         NaN          NaN   \n",
       "4       Canton, OH  United States        NaN         NaN          NaN   \n",
       "\n",
       "  Airport.Name  ... Purpose.of.flight Air.carrier Total.Fatal.Injuries  \\\n",
       "0          NaN  ...          Personal         NaN                  2.0   \n",
       "1          NaN  ...          Personal         NaN                  4.0   \n",
       "2          NaN  ...          Personal         NaN                  3.0   \n",
       "3          NaN  ...          Personal         NaN                  2.0   \n",
       "4          NaN  ...          Personal         NaN                  1.0   \n",
       "\n",
       "  Total.Serious.Injuries Total.Minor.Injuries Total.Uninjured  \\\n",
       "0                    0.0                  0.0             0.0   \n",
       "1                    0.0                  0.0             0.0   \n",
       "2                    NaN                  NaN             NaN   \n",
       "3                    0.0                  0.0             0.0   \n",
       "4                    2.0                  NaN             0.0   \n",
       "\n",
       "  Weather.Condition  Broad.phase.of.flight   Report.Status Publication.Date  \n",
       "0               UNK                 Cruise  Probable Cause              NaN  \n",
       "1               UNK                Unknown  Probable Cause       19-09-1996  \n",
       "2               IMC                 Cruise  Probable Cause       26-02-2007  \n",
       "3               IMC                 Cruise  Probable Cause       12-09-2000  \n",
       "4               VMC               Approach  Probable Cause       16-04-1980  \n",
       "\n",
       "[5 rows x 31 columns]"
      ]
     },
     "execution_count": 70,
     "metadata": {},
     "output_type": "execute_result"
    }
   ],
   "source": [
    "#load the dataset and set encoding to 'latin-1' and  low_memory = False\n",
    "df = pd.read_csv('AviationData.csv', encoding = 'latin-1', low_memory = False)\n",
    "#view first few rows of dataset\n",
    "df.head()"
   ]
  },
  {
   "cell_type": "code",
   "execution_count": 71,
   "metadata": {},
   "outputs": [
    {
     "data": {
      "text/plain": [
       "(88889, 31)"
      ]
     },
     "execution_count": 71,
     "metadata": {},
     "output_type": "execute_result"
    }
   ],
   "source": [
    "#view shape\n",
    "df.shape"
   ]
  },
  {
   "cell_type": "markdown",
   "metadata": {},
   "source": [
    "Our dataset has 88889 rows and 31 columns"
   ]
  },
  {
   "cell_type": "code",
   "execution_count": 72,
   "metadata": {},
   "outputs": [
    {
     "data": {
      "text/plain": [
       "Index(['Event.Id', 'Investigation.Type', 'Accident.Number', 'Event.Date',\n",
       "       'Location', 'Country', 'Latitude', 'Longitude', 'Airport.Code',\n",
       "       'Airport.Name', 'Injury.Severity', 'Aircraft.damage',\n",
       "       'Aircraft.Category', 'Registration.Number', 'Make', 'Model',\n",
       "       'Amateur.Built', 'Number.of.Engines', 'Engine.Type', 'FAR.Description',\n",
       "       'Schedule', 'Purpose.of.flight', 'Air.carrier', 'Total.Fatal.Injuries',\n",
       "       'Total.Serious.Injuries', 'Total.Minor.Injuries', 'Total.Uninjured',\n",
       "       'Weather.Condition', 'Broad.phase.of.flight', 'Report.Status',\n",
       "       'Publication.Date'],\n",
       "      dtype='object')"
      ]
     },
     "execution_count": 72,
     "metadata": {},
     "output_type": "execute_result"
    }
   ],
   "source": [
    "#identify columns present\n",
    "df.columns"
   ]
  },
  {
   "cell_type": "markdown",
   "metadata": {},
   "source": [
    "Not all columns are necessary for out analysis. \n",
    "Our analysis will use these columns:\n",
    "   'Investigation.Type'\n",
    "   'Event.Date'\n",
    "   'Aircraft.Category\n",
    "   'Aircraft.damage'\n",
    "   \n",
    "\n",
    "We need to find some distributions of aircraft types(Aircraft.Category) with the above columns\n"
   ]
  },
  {
   "cell_type": "code",
   "execution_count": 73,
   "metadata": {},
   "outputs": [
    {
     "data": {
      "text/plain": [
       "Index(['Investigation.Type', 'Event.Date', 'Aircraft.Category',\n",
       "       'Aircraft.damage', 'Injury.Severity'],\n",
       "      dtype='object')"
      ]
     },
     "execution_count": 73,
     "metadata": {},
     "output_type": "execute_result"
    }
   ],
   "source": [
    "# Remove unnecessary columns\n",
    "df = df[['Investigation.Type', 'Event.Date', 'Aircraft.Category', 'Aircraft.damage','Injury.Severity']]\n",
    "df.columns"
   ]
  },
  {
   "cell_type": "markdown",
   "metadata": {},
   "source": [
    "## 1.Distribution of Aircraft category with Investigation type\n",
    "### Dealing with missing Values"
   ]
  },
  {
   "cell_type": "code",
   "execution_count": 74,
   "metadata": {},
   "outputs": [
    {
     "data": {
      "text/plain": [
       "0             NaN\n",
       "1             NaN\n",
       "2             NaN\n",
       "3             NaN\n",
       "4             NaN\n",
       "           ...   \n",
       "88884         NaN\n",
       "88885         NaN\n",
       "88886    Airplane\n",
       "88887         NaN\n",
       "88888         NaN\n",
       "Name: Aircraft.Category, Length: 88889, dtype: object"
      ]
     },
     "execution_count": 74,
     "metadata": {},
     "output_type": "execute_result"
    }
   ],
   "source": [
    "#view aircraft category column\n",
    "df['Aircraft.Category']"
   ]
  },
  {
   "cell_type": "markdown",
   "metadata": {},
   "source": [
    "We have multiple Nan values and we can remove them first"
   ]
  },
  {
   "cell_type": "code",
   "execution_count": 75,
   "metadata": {},
   "outputs": [
    {
     "data": {
      "text/plain": [
       "56602"
      ]
     },
     "execution_count": 75,
     "metadata": {},
     "output_type": "execute_result"
    }
   ],
   "source": [
    "#identify NaN values first\n",
    "df['Aircraft.Category'].isna()\n",
    "nan_values_count = df['Aircraft.Category'].isna().sum()\n",
    "nan_values_count"
   ]
  },
  {
   "cell_type": "markdown",
   "metadata": {},
   "source": [
    "We have 56602 nan values and are irrelevant as we will not know what aircraft it is hence we drop them"
   ]
  },
  {
   "cell_type": "code",
   "execution_count": 76,
   "metadata": {},
   "outputs": [
    {
     "data": {
      "text/html": [
       "<div>\n",
       "<style scoped>\n",
       "    .dataframe tbody tr th:only-of-type {\n",
       "        vertical-align: middle;\n",
       "    }\n",
       "\n",
       "    .dataframe tbody tr th {\n",
       "        vertical-align: top;\n",
       "    }\n",
       "\n",
       "    .dataframe thead th {\n",
       "        text-align: right;\n",
       "    }\n",
       "</style>\n",
       "<table border=\"1\" class=\"dataframe\">\n",
       "  <thead>\n",
       "    <tr style=\"text-align: right;\">\n",
       "      <th></th>\n",
       "      <th>Investigation.Type</th>\n",
       "      <th>Event.Date</th>\n",
       "      <th>Aircraft.Category</th>\n",
       "      <th>Aircraft.damage</th>\n",
       "      <th>Injury.Severity</th>\n",
       "    </tr>\n",
       "  </thead>\n",
       "  <tbody>\n",
       "    <tr>\n",
       "      <th>5</th>\n",
       "      <td>Accident</td>\n",
       "      <td>1979-09-17</td>\n",
       "      <td>Airplane</td>\n",
       "      <td>Substantial</td>\n",
       "      <td>Non-Fatal</td>\n",
       "    </tr>\n",
       "    <tr>\n",
       "      <th>7</th>\n",
       "      <td>Accident</td>\n",
       "      <td>1982-01-01</td>\n",
       "      <td>Airplane</td>\n",
       "      <td>Substantial</td>\n",
       "      <td>Non-Fatal</td>\n",
       "    </tr>\n",
       "    <tr>\n",
       "      <th>8</th>\n",
       "      <td>Accident</td>\n",
       "      <td>1982-01-01</td>\n",
       "      <td>Airplane</td>\n",
       "      <td>Substantial</td>\n",
       "      <td>Non-Fatal</td>\n",
       "    </tr>\n",
       "    <tr>\n",
       "      <th>12</th>\n",
       "      <td>Accident</td>\n",
       "      <td>1982-01-02</td>\n",
       "      <td>Airplane</td>\n",
       "      <td>Destroyed</td>\n",
       "      <td>Non-Fatal</td>\n",
       "    </tr>\n",
       "    <tr>\n",
       "      <th>13</th>\n",
       "      <td>Accident</td>\n",
       "      <td>1982-01-02</td>\n",
       "      <td>Airplane</td>\n",
       "      <td>Destroyed</td>\n",
       "      <td>Fatal(1)</td>\n",
       "    </tr>\n",
       "    <tr>\n",
       "      <th>...</th>\n",
       "      <td>...</td>\n",
       "      <td>...</td>\n",
       "      <td>...</td>\n",
       "      <td>...</td>\n",
       "      <td>...</td>\n",
       "    </tr>\n",
       "    <tr>\n",
       "      <th>88869</th>\n",
       "      <td>Accident</td>\n",
       "      <td>2022-12-13</td>\n",
       "      <td>Airplane</td>\n",
       "      <td>Substantial</td>\n",
       "      <td>Non-Fatal</td>\n",
       "    </tr>\n",
       "    <tr>\n",
       "      <th>88873</th>\n",
       "      <td>Accident</td>\n",
       "      <td>2022-12-14</td>\n",
       "      <td>Airplane</td>\n",
       "      <td>Substantial</td>\n",
       "      <td>Non-Fatal</td>\n",
       "    </tr>\n",
       "    <tr>\n",
       "      <th>88876</th>\n",
       "      <td>Accident</td>\n",
       "      <td>2022-12-15</td>\n",
       "      <td>Airplane</td>\n",
       "      <td>Substantial</td>\n",
       "      <td>Non-Fatal</td>\n",
       "    </tr>\n",
       "    <tr>\n",
       "      <th>88877</th>\n",
       "      <td>Accident</td>\n",
       "      <td>2022-12-16</td>\n",
       "      <td>Airplane</td>\n",
       "      <td>Substantial</td>\n",
       "      <td>Minor</td>\n",
       "    </tr>\n",
       "    <tr>\n",
       "      <th>88886</th>\n",
       "      <td>Accident</td>\n",
       "      <td>2022-12-26</td>\n",
       "      <td>Airplane</td>\n",
       "      <td>Substantial</td>\n",
       "      <td>Non-Fatal</td>\n",
       "    </tr>\n",
       "  </tbody>\n",
       "</table>\n",
       "<p>32287 rows × 5 columns</p>\n",
       "</div>"
      ],
      "text/plain": [
       "      Investigation.Type  Event.Date Aircraft.Category Aircraft.damage  \\\n",
       "5               Accident  1979-09-17          Airplane     Substantial   \n",
       "7               Accident  1982-01-01          Airplane     Substantial   \n",
       "8               Accident  1982-01-01          Airplane     Substantial   \n",
       "12              Accident  1982-01-02          Airplane       Destroyed   \n",
       "13              Accident  1982-01-02          Airplane       Destroyed   \n",
       "...                  ...         ...               ...             ...   \n",
       "88869           Accident  2022-12-13          Airplane     Substantial   \n",
       "88873           Accident  2022-12-14          Airplane     Substantial   \n",
       "88876           Accident  2022-12-15          Airplane     Substantial   \n",
       "88877           Accident  2022-12-16          Airplane     Substantial   \n",
       "88886           Accident  2022-12-26          Airplane     Substantial   \n",
       "\n",
       "      Injury.Severity  \n",
       "5           Non-Fatal  \n",
       "7           Non-Fatal  \n",
       "8           Non-Fatal  \n",
       "12          Non-Fatal  \n",
       "13           Fatal(1)  \n",
       "...               ...  \n",
       "88869       Non-Fatal  \n",
       "88873       Non-Fatal  \n",
       "88876       Non-Fatal  \n",
       "88877           Minor  \n",
       "88886       Non-Fatal  \n",
       "\n",
       "[32287 rows x 5 columns]"
      ]
     },
     "execution_count": 76,
     "metadata": {},
     "output_type": "execute_result"
    }
   ],
   "source": [
    "#drop all nan values\n",
    "df.dropna(axis = 'index', how = 'any', subset = ['Aircraft.Category'], inplace = True)\n",
    "df"
   ]
  },
  {
   "cell_type": "markdown",
   "metadata": {},
   "source": [
    "Our rows have dropped to 32287 from 88889"
   ]
  },
  {
   "cell_type": "code",
   "execution_count": 77,
   "metadata": {},
   "outputs": [
    {
     "data": {
      "text/plain": [
       "0"
      ]
     },
     "execution_count": 77,
     "metadata": {},
     "output_type": "execute_result"
    }
   ],
   "source": [
    "#CONFIRM by identifying na values in Investigation.Type Column\n",
    "df['Investigation.Type'].isna().sum()"
   ]
  },
  {
   "cell_type": "markdown",
   "metadata": {},
   "source": [
    "The Investigation.Type column does not have any nan values"
   ]
  },
  {
   "cell_type": "code",
   "execution_count": 78,
   "metadata": {},
   "outputs": [
    {
     "data": {
      "text/plain": [
       "Index(['Investigation.Type', 'Event.Date', 'Aircraft.Category',\n",
       "       'Aircraft.damage', 'Injury.Severity'],\n",
       "      dtype='object')"
      ]
     },
     "execution_count": 78,
     "metadata": {},
     "output_type": "execute_result"
    }
   ],
   "source": [
    "df.columns"
   ]
  },
  {
   "cell_type": "code",
   "execution_count": 79,
   "metadata": {},
   "outputs": [
    {
     "data": {
      "text/html": [
       "<div>\n",
       "<style scoped>\n",
       "    .dataframe tbody tr th:only-of-type {\n",
       "        vertical-align: middle;\n",
       "    }\n",
       "\n",
       "    .dataframe tbody tr th {\n",
       "        vertical-align: top;\n",
       "    }\n",
       "\n",
       "    .dataframe thead th {\n",
       "        text-align: right;\n",
       "    }\n",
       "</style>\n",
       "<table border=\"1\" class=\"dataframe\">\n",
       "  <thead>\n",
       "    <tr style=\"text-align: right;\">\n",
       "      <th></th>\n",
       "      <th>Investigation.Type</th>\n",
       "      <th>Aircraft.Category</th>\n",
       "    </tr>\n",
       "  </thead>\n",
       "  <tbody>\n",
       "    <tr>\n",
       "      <th>5</th>\n",
       "      <td>Accident</td>\n",
       "      <td>Airplane</td>\n",
       "    </tr>\n",
       "    <tr>\n",
       "      <th>7</th>\n",
       "      <td>Accident</td>\n",
       "      <td>Airplane</td>\n",
       "    </tr>\n",
       "    <tr>\n",
       "      <th>8</th>\n",
       "      <td>Accident</td>\n",
       "      <td>Airplane</td>\n",
       "    </tr>\n",
       "    <tr>\n",
       "      <th>12</th>\n",
       "      <td>Accident</td>\n",
       "      <td>Airplane</td>\n",
       "    </tr>\n",
       "    <tr>\n",
       "      <th>13</th>\n",
       "      <td>Accident</td>\n",
       "      <td>Airplane</td>\n",
       "    </tr>\n",
       "    <tr>\n",
       "      <th>...</th>\n",
       "      <td>...</td>\n",
       "      <td>...</td>\n",
       "    </tr>\n",
       "    <tr>\n",
       "      <th>88869</th>\n",
       "      <td>Accident</td>\n",
       "      <td>Airplane</td>\n",
       "    </tr>\n",
       "    <tr>\n",
       "      <th>88873</th>\n",
       "      <td>Accident</td>\n",
       "      <td>Airplane</td>\n",
       "    </tr>\n",
       "    <tr>\n",
       "      <th>88876</th>\n",
       "      <td>Accident</td>\n",
       "      <td>Airplane</td>\n",
       "    </tr>\n",
       "    <tr>\n",
       "      <th>88877</th>\n",
       "      <td>Accident</td>\n",
       "      <td>Airplane</td>\n",
       "    </tr>\n",
       "    <tr>\n",
       "      <th>88886</th>\n",
       "      <td>Accident</td>\n",
       "      <td>Airplane</td>\n",
       "    </tr>\n",
       "  </tbody>\n",
       "</table>\n",
       "<p>32287 rows × 2 columns</p>\n",
       "</div>"
      ],
      "text/plain": [
       "      Investigation.Type Aircraft.Category\n",
       "5               Accident          Airplane\n",
       "7               Accident          Airplane\n",
       "8               Accident          Airplane\n",
       "12              Accident          Airplane\n",
       "13              Accident          Airplane\n",
       "...                  ...               ...\n",
       "88869           Accident          Airplane\n",
       "88873           Accident          Airplane\n",
       "88876           Accident          Airplane\n",
       "88877           Accident          Airplane\n",
       "88886           Accident          Airplane\n",
       "\n",
       "[32287 rows x 2 columns]"
      ]
     },
     "execution_count": 79,
     "metadata": {},
     "output_type": "execute_result"
    }
   ],
   "source": [
    "#our 2 necessary columns for the first distribution\n",
    "df[['Investigation.Type', 'Aircraft.Category']]\n"
   ]
  },
  {
   "cell_type": "code",
   "execution_count": 80,
   "metadata": {},
   "outputs": [
    {
     "data": {
      "text/plain": [
       "Accident    30535\n",
       "Incident     1752\n",
       "Name: Investigation.Type, dtype: int64"
      ]
     },
     "execution_count": 80,
     "metadata": {},
     "output_type": "execute_result"
    }
   ],
   "source": [
    "#identify counts for accidents and incidents\n",
    "df['Investigation.Type'].value_counts()"
   ]
  },
  {
   "cell_type": "markdown",
   "metadata": {},
   "source": [
    "### GROUP INVESTIGATION TYPES ACCORDINGLY \n",
    "We group the Investigation type to Accidents group and incidents group.\n",
    "We mainly need the Accidents and not incidents as incidents may not result in harm, damage \n",
    "or injury.\n",
    "We will group into Accidents group"
   ]
  },
  {
   "cell_type": "code",
   "execution_count": 86,
   "metadata": {},
   "outputs": [
    {
     "data": {
      "text/html": [
       "<div>\n",
       "<style scoped>\n",
       "    .dataframe tbody tr th:only-of-type {\n",
       "        vertical-align: middle;\n",
       "    }\n",
       "\n",
       "    .dataframe tbody tr th {\n",
       "        vertical-align: top;\n",
       "    }\n",
       "\n",
       "    .dataframe thead th {\n",
       "        text-align: right;\n",
       "    }\n",
       "</style>\n",
       "<table border=\"1\" class=\"dataframe\">\n",
       "  <thead>\n",
       "    <tr style=\"text-align: right;\">\n",
       "      <th></th>\n",
       "      <th>Investigation.Type</th>\n",
       "      <th>Event.Date</th>\n",
       "      <th>Aircraft.Category</th>\n",
       "      <th>Aircraft.damage</th>\n",
       "      <th>Injury.Severity</th>\n",
       "    </tr>\n",
       "  </thead>\n",
       "  <tbody>\n",
       "    <tr>\n",
       "      <th>5</th>\n",
       "      <td>Accident</td>\n",
       "      <td>1979-09-17</td>\n",
       "      <td>Airplane</td>\n",
       "      <td>Substantial</td>\n",
       "      <td>Non-Fatal</td>\n",
       "    </tr>\n",
       "    <tr>\n",
       "      <th>7</th>\n",
       "      <td>Accident</td>\n",
       "      <td>1982-01-01</td>\n",
       "      <td>Airplane</td>\n",
       "      <td>Substantial</td>\n",
       "      <td>Non-Fatal</td>\n",
       "    </tr>\n",
       "    <tr>\n",
       "      <th>8</th>\n",
       "      <td>Accident</td>\n",
       "      <td>1982-01-01</td>\n",
       "      <td>Airplane</td>\n",
       "      <td>Substantial</td>\n",
       "      <td>Non-Fatal</td>\n",
       "    </tr>\n",
       "    <tr>\n",
       "      <th>12</th>\n",
       "      <td>Accident</td>\n",
       "      <td>1982-01-02</td>\n",
       "      <td>Airplane</td>\n",
       "      <td>Destroyed</td>\n",
       "      <td>Non-Fatal</td>\n",
       "    </tr>\n",
       "    <tr>\n",
       "      <th>13</th>\n",
       "      <td>Accident</td>\n",
       "      <td>1982-01-02</td>\n",
       "      <td>Airplane</td>\n",
       "      <td>Destroyed</td>\n",
       "      <td>Fatal(1)</td>\n",
       "    </tr>\n",
       "    <tr>\n",
       "      <th>...</th>\n",
       "      <td>...</td>\n",
       "      <td>...</td>\n",
       "      <td>...</td>\n",
       "      <td>...</td>\n",
       "      <td>...</td>\n",
       "    </tr>\n",
       "    <tr>\n",
       "      <th>88869</th>\n",
       "      <td>Accident</td>\n",
       "      <td>2022-12-13</td>\n",
       "      <td>Airplane</td>\n",
       "      <td>Substantial</td>\n",
       "      <td>Non-Fatal</td>\n",
       "    </tr>\n",
       "    <tr>\n",
       "      <th>88873</th>\n",
       "      <td>Accident</td>\n",
       "      <td>2022-12-14</td>\n",
       "      <td>Airplane</td>\n",
       "      <td>Substantial</td>\n",
       "      <td>Non-Fatal</td>\n",
       "    </tr>\n",
       "    <tr>\n",
       "      <th>88876</th>\n",
       "      <td>Accident</td>\n",
       "      <td>2022-12-15</td>\n",
       "      <td>Airplane</td>\n",
       "      <td>Substantial</td>\n",
       "      <td>Non-Fatal</td>\n",
       "    </tr>\n",
       "    <tr>\n",
       "      <th>88877</th>\n",
       "      <td>Accident</td>\n",
       "      <td>2022-12-16</td>\n",
       "      <td>Airplane</td>\n",
       "      <td>Substantial</td>\n",
       "      <td>Minor</td>\n",
       "    </tr>\n",
       "    <tr>\n",
       "      <th>88886</th>\n",
       "      <td>Accident</td>\n",
       "      <td>2022-12-26</td>\n",
       "      <td>Airplane</td>\n",
       "      <td>Substantial</td>\n",
       "      <td>Non-Fatal</td>\n",
       "    </tr>\n",
       "  </tbody>\n",
       "</table>\n",
       "<p>30535 rows × 5 columns</p>\n",
       "</div>"
      ],
      "text/plain": [
       "      Investigation.Type  Event.Date Aircraft.Category Aircraft.damage  \\\n",
       "5               Accident  1979-09-17          Airplane     Substantial   \n",
       "7               Accident  1982-01-01          Airplane     Substantial   \n",
       "8               Accident  1982-01-01          Airplane     Substantial   \n",
       "12              Accident  1982-01-02          Airplane       Destroyed   \n",
       "13              Accident  1982-01-02          Airplane       Destroyed   \n",
       "...                  ...         ...               ...             ...   \n",
       "88869           Accident  2022-12-13          Airplane     Substantial   \n",
       "88873           Accident  2022-12-14          Airplane     Substantial   \n",
       "88876           Accident  2022-12-15          Airplane     Substantial   \n",
       "88877           Accident  2022-12-16          Airplane     Substantial   \n",
       "88886           Accident  2022-12-26          Airplane     Substantial   \n",
       "\n",
       "      Injury.Severity  \n",
       "5           Non-Fatal  \n",
       "7           Non-Fatal  \n",
       "8           Non-Fatal  \n",
       "12          Non-Fatal  \n",
       "13           Fatal(1)  \n",
       "...               ...  \n",
       "88869       Non-Fatal  \n",
       "88873       Non-Fatal  \n",
       "88876       Non-Fatal  \n",
       "88877           Minor  \n",
       "88886       Non-Fatal  \n",
       "\n",
       "[30535 rows x 5 columns]"
      ]
     },
     "execution_count": 86,
     "metadata": {},
     "output_type": "execute_result"
    }
   ],
   "source": [
    "#group accordingly to two groups: Accidents and Incidents\n",
    "accidents_and_incidents = df.groupby('Investigation.Type')\n",
    "accidents_grp = accidents_and_incidents.get_group('Accident')\n",
    "accidents_grp\n"
   ]
  },
  {
   "cell_type": "code",
   "execution_count": 87,
   "metadata": {},
   "outputs": [
    {
     "data": {
      "text/html": [
       "<div>\n",
       "<style scoped>\n",
       "    .dataframe tbody tr th:only-of-type {\n",
       "        vertical-align: middle;\n",
       "    }\n",
       "\n",
       "    .dataframe tbody tr th {\n",
       "        vertical-align: top;\n",
       "    }\n",
       "\n",
       "    .dataframe thead th {\n",
       "        text-align: right;\n",
       "    }\n",
       "</style>\n",
       "<table border=\"1\" class=\"dataframe\">\n",
       "  <thead>\n",
       "    <tr style=\"text-align: right;\">\n",
       "      <th></th>\n",
       "      <th>Aircraft.Category</th>\n",
       "      <th>Investigation.Type</th>\n",
       "    </tr>\n",
       "  </thead>\n",
       "  <tbody>\n",
       "    <tr>\n",
       "      <th>5</th>\n",
       "      <td>Airplane</td>\n",
       "      <td>Accident</td>\n",
       "    </tr>\n",
       "    <tr>\n",
       "      <th>7</th>\n",
       "      <td>Airplane</td>\n",
       "      <td>Accident</td>\n",
       "    </tr>\n",
       "    <tr>\n",
       "      <th>8</th>\n",
       "      <td>Airplane</td>\n",
       "      <td>Accident</td>\n",
       "    </tr>\n",
       "    <tr>\n",
       "      <th>12</th>\n",
       "      <td>Airplane</td>\n",
       "      <td>Accident</td>\n",
       "    </tr>\n",
       "    <tr>\n",
       "      <th>13</th>\n",
       "      <td>Airplane</td>\n",
       "      <td>Accident</td>\n",
       "    </tr>\n",
       "    <tr>\n",
       "      <th>...</th>\n",
       "      <td>...</td>\n",
       "      <td>...</td>\n",
       "    </tr>\n",
       "    <tr>\n",
       "      <th>88869</th>\n",
       "      <td>Airplane</td>\n",
       "      <td>Accident</td>\n",
       "    </tr>\n",
       "    <tr>\n",
       "      <th>88873</th>\n",
       "      <td>Airplane</td>\n",
       "      <td>Accident</td>\n",
       "    </tr>\n",
       "    <tr>\n",
       "      <th>88876</th>\n",
       "      <td>Airplane</td>\n",
       "      <td>Accident</td>\n",
       "    </tr>\n",
       "    <tr>\n",
       "      <th>88877</th>\n",
       "      <td>Airplane</td>\n",
       "      <td>Accident</td>\n",
       "    </tr>\n",
       "    <tr>\n",
       "      <th>88886</th>\n",
       "      <td>Airplane</td>\n",
       "      <td>Accident</td>\n",
       "    </tr>\n",
       "  </tbody>\n",
       "</table>\n",
       "<p>30535 rows × 2 columns</p>\n",
       "</div>"
      ],
      "text/plain": [
       "      Aircraft.Category Investigation.Type\n",
       "5              Airplane           Accident\n",
       "7              Airplane           Accident\n",
       "8              Airplane           Accident\n",
       "12             Airplane           Accident\n",
       "13             Airplane           Accident\n",
       "...                 ...                ...\n",
       "88869          Airplane           Accident\n",
       "88873          Airplane           Accident\n",
       "88876          Airplane           Accident\n",
       "88877          Airplane           Accident\n",
       "88886          Airplane           Accident\n",
       "\n",
       "[30535 rows x 2 columns]"
      ]
     },
     "execution_count": 87,
     "metadata": {},
     "output_type": "execute_result"
    }
   ],
   "source": [
    "#view needed columns : Accident Category and investigation type\n",
    "accidents_grp[['Aircraft.Category', 'Investigation.Type']]\n"
   ]
  },
  {
   "cell_type": "code",
   "execution_count": 88,
   "metadata": {},
   "outputs": [
    {
     "data": {
      "text/plain": [
       "Airplane             25963\n",
       "Helicopter            3348\n",
       "Glider                 508\n",
       "Balloon                229\n",
       "Gyrocraft              173\n",
       "Weight-Shift           161\n",
       "Powered Parachute       91\n",
       "Ultralight              30\n",
       "Unknown                 12\n",
       "WSFT                     9\n",
       "Blimp                    4\n",
       "Powered-Lift             3\n",
       "UNK                      2\n",
       "Rocket                   1\n",
       "ULTR                     1\n",
       "Name: Aircraft.Category, dtype: int64"
      ]
     },
     "execution_count": 88,
     "metadata": {},
     "output_type": "execute_result"
    }
   ],
   "source": [
    "#identify counts for accidents for each aircraft category\n",
    "accidents_grp['Aircraft.Category'].value_counts()"
   ]
  },
  {
   "cell_type": "markdown",
   "metadata": {},
   "source": [
    "We can see airplanes have the most accidents and ULTR have the least accidents"
   ]
  },
  {
   "cell_type": "markdown",
   "metadata": {},
   "source": [
    "## Graph of investigation type and aircraft category\n"
   ]
  },
  {
   "cell_type": "code",
   "execution_count": 89,
   "metadata": {},
   "outputs": [
    {
     "data": {
      "text/plain": [
       "Text(0.5, 1.0, 'TOP 10 AIRCRAFTS WITH LEAST ACCIDENTS')"
      ]
     },
     "execution_count": 89,
     "metadata": {},
     "output_type": "execute_result"
    },
    {
     "data": {
      "image/png": "[encoded data removed]",
      "text/plain": [
       "<Figure size 1152x360 with 2 Axes>"
      ]
     },
     "metadata": {
      "needs_background": "light"
     },
     "output_type": "display_data"
    }
   ],
   "source": [
    "fig, (ax1, ax2) = plt.subplots(ncols=2, figsize=(16, 5))\n",
    "accident_count_top = accidents_grp['Aircraft.Category'].value_counts().head(10)\n",
    "\n",
    "ax1.bar(accident_count_top.index, accident_count_top.values)\n",
    "\n",
    "ax1.tick_params(axis=\"x\", labelrotation=45)\n",
    "ax1.set_xlabel(\"Aircraft Category\")\n",
    "ax1.set_ylabel(\"Number of accidents\")\n",
    "ax1.set_title(\"TOP 10 AIRCRAFTS WITH MOST ACCIDENTS\")\n",
    "\n",
    "accident_count_bottom = accidents_grp['Aircraft.Category'].value_counts().tail(10)\n",
    "ax2.bar(accident_count_bottom.index, accident_count_bottom.values)\n",
    "\n",
    "ax2.tick_params(axis=\"x\", labelrotation=45)\n",
    "ax2.set_xlabel(\"Aircraft Category\")\n",
    "ax2.set_ylabel(\"Number of accidents\")\n",
    "ax2.set_title(\"TOP 10 AIRCRAFTS WITH LEAST ACCIDENTS\")\n",
    "\n",
    "#top 10 aircraftd with LEAST counts is the same as the BOTTOM 10 of aircrafts with most accidents\n",
    "#the last 10 will have the LEAST accident counts\n",
    "\n"
   ]
  },
  {
   "cell_type": "markdown",
   "metadata": {},
   "source": [
    "Airplanes and helicopters have the most accidents BUT Rockets and ULTRs have the least accidents"
   ]
  },
  {
   "cell_type": "code",
   "execution_count": 90,
   "metadata": {},
   "outputs": [
    {
     "data": {
      "text/plain": [
       "Airplane      25963\n",
       "Helicopter     3348\n",
       "Glider          508\n",
       "Balloon         229\n",
       "Gyrocraft       173\n",
       "Name: Aircraft.Category, dtype: int64"
      ]
     },
     "execution_count": 90,
     "metadata": {},
     "output_type": "execute_result"
    }
   ],
   "source": [
    "top_5_most_accidents = accident_count_top.head()\n",
    "top_5_most_accidents "
   ]
  },
  {
   "cell_type": "code",
   "execution_count": 91,
   "metadata": {
    "scrolled": true
   },
   "outputs": [
    {
     "data": {
      "text/plain": [
       "Blimp           4\n",
       "Powered-Lift    3\n",
       "UNK             2\n",
       "Rocket          1\n",
       "ULTR            1\n",
       "Name: Aircraft.Category, dtype: int64"
      ]
     },
     "execution_count": 91,
     "metadata": {},
     "output_type": "execute_result"
    }
   ],
   "source": [
    "bottom_5_least_accidents = accident_count_bottom.tail(5)\n",
    "bottom_5_least_accidents"
   ]
  },
  {
   "cell_type": "markdown",
   "metadata": {},
   "source": [
    "#### OBSERVATIONS"
   ]
  },
  {
   "cell_type": "markdown",
   "metadata": {},
   "source": [
    "The aircrafts with most accidents are Airplane, Helicopter, Glider, Balloon and Gyrocraft\n",
    "The aircrafts with LEAST accidents are Blimp, Powered-Lift, UNK, Rocket, ULTR"
   ]
  },
  {
   "cell_type": "markdown",
   "metadata": {},
   "source": [
    "## 2.DISTRIBUTION OF AIRCRAFT CATEORY WITH AIRCRAFT DAMAGE"
   ]
  },
  {
   "cell_type": "code",
   "execution_count": 92,
   "metadata": {},
   "outputs": [
    {
     "data": {
      "text/plain": [
       "(32287, 5)"
      ]
     },
     "execution_count": 92,
     "metadata": {},
     "output_type": "execute_result"
    }
   ],
   "source": [
    "#evaluate our shape\n",
    "df.shape"
   ]
  },
  {
   "cell_type": "code",
   "execution_count": 93,
   "metadata": {},
   "outputs": [
    {
     "data": {
      "text/plain": [
       "Index(['Investigation.Type', 'Event.Date', 'Aircraft.Category',\n",
       "       'Aircraft.damage', 'Injury.Severity'],\n",
       "      dtype='object')"
      ]
     },
     "execution_count": 93,
     "metadata": {},
     "output_type": "execute_result"
    }
   ],
   "source": [
    "#identify our columns\n",
    "df.columns"
   ]
  },
  {
   "cell_type": "code",
   "execution_count": 94,
   "metadata": {},
   "outputs": [
    {
     "data": {
      "text/html": [
       "<div>\n",
       "<style scoped>\n",
       "    .dataframe tbody tr th:only-of-type {\n",
       "        vertical-align: middle;\n",
       "    }\n",
       "\n",
       "    .dataframe tbody tr th {\n",
       "        vertical-align: top;\n",
       "    }\n",
       "\n",
       "    .dataframe thead th {\n",
       "        text-align: right;\n",
       "    }\n",
       "</style>\n",
       "<table border=\"1\" class=\"dataframe\">\n",
       "  <thead>\n",
       "    <tr style=\"text-align: right;\">\n",
       "      <th></th>\n",
       "      <th>Aircraft.Category</th>\n",
       "      <th>Aircraft.damage</th>\n",
       "    </tr>\n",
       "  </thead>\n",
       "  <tbody>\n",
       "    <tr>\n",
       "      <th>5</th>\n",
       "      <td>Airplane</td>\n",
       "      <td>Substantial</td>\n",
       "    </tr>\n",
       "    <tr>\n",
       "      <th>7</th>\n",
       "      <td>Airplane</td>\n",
       "      <td>Substantial</td>\n",
       "    </tr>\n",
       "    <tr>\n",
       "      <th>8</th>\n",
       "      <td>Airplane</td>\n",
       "      <td>Substantial</td>\n",
       "    </tr>\n",
       "    <tr>\n",
       "      <th>12</th>\n",
       "      <td>Airplane</td>\n",
       "      <td>Destroyed</td>\n",
       "    </tr>\n",
       "    <tr>\n",
       "      <th>13</th>\n",
       "      <td>Airplane</td>\n",
       "      <td>Destroyed</td>\n",
       "    </tr>\n",
       "    <tr>\n",
       "      <th>...</th>\n",
       "      <td>...</td>\n",
       "      <td>...</td>\n",
       "    </tr>\n",
       "    <tr>\n",
       "      <th>88869</th>\n",
       "      <td>Airplane</td>\n",
       "      <td>Substantial</td>\n",
       "    </tr>\n",
       "    <tr>\n",
       "      <th>88873</th>\n",
       "      <td>Airplane</td>\n",
       "      <td>Substantial</td>\n",
       "    </tr>\n",
       "    <tr>\n",
       "      <th>88876</th>\n",
       "      <td>Airplane</td>\n",
       "      <td>Substantial</td>\n",
       "    </tr>\n",
       "    <tr>\n",
       "      <th>88877</th>\n",
       "      <td>Airplane</td>\n",
       "      <td>Substantial</td>\n",
       "    </tr>\n",
       "    <tr>\n",
       "      <th>88886</th>\n",
       "      <td>Airplane</td>\n",
       "      <td>Substantial</td>\n",
       "    </tr>\n",
       "  </tbody>\n",
       "</table>\n",
       "<p>32287 rows × 2 columns</p>\n",
       "</div>"
      ],
      "text/plain": [
       "      Aircraft.Category Aircraft.damage\n",
       "5              Airplane     Substantial\n",
       "7              Airplane     Substantial\n",
       "8              Airplane     Substantial\n",
       "12             Airplane       Destroyed\n",
       "13             Airplane       Destroyed\n",
       "...                 ...             ...\n",
       "88869          Airplane     Substantial\n",
       "88873          Airplane     Substantial\n",
       "88876          Airplane     Substantial\n",
       "88877          Airplane     Substantial\n",
       "88886          Airplane     Substantial\n",
       "\n",
       "[32287 rows x 2 columns]"
      ]
     },
     "execution_count": 94,
     "metadata": {},
     "output_type": "execute_result"
    }
   ],
   "source": [
    "df[['Aircraft.Category', 'Aircraft.damage']]"
   ]
  },
  {
   "cell_type": "code",
   "execution_count": 95,
   "metadata": {},
   "outputs": [
    {
     "data": {
      "text/html": [
       "<div>\n",
       "<style scoped>\n",
       "    .dataframe tbody tr th:only-of-type {\n",
       "        vertical-align: middle;\n",
       "    }\n",
       "\n",
       "    .dataframe tbody tr th {\n",
       "        vertical-align: top;\n",
       "    }\n",
       "\n",
       "    .dataframe thead th {\n",
       "        text-align: right;\n",
       "    }\n",
       "</style>\n",
       "<table border=\"1\" class=\"dataframe\">\n",
       "  <thead>\n",
       "    <tr style=\"text-align: right;\">\n",
       "      <th></th>\n",
       "      <th>Investigation.Type</th>\n",
       "      <th>Event.Date</th>\n",
       "      <th>Aircraft.Category</th>\n",
       "      <th>Aircraft.damage</th>\n",
       "      <th>Injury.Severity</th>\n",
       "    </tr>\n",
       "  </thead>\n",
       "  <tbody>\n",
       "    <tr>\n",
       "      <th>5</th>\n",
       "      <td>Accident</td>\n",
       "      <td>1979-09-17</td>\n",
       "      <td>Airplane</td>\n",
       "      <td>Substantial</td>\n",
       "      <td>Non-Fatal</td>\n",
       "    </tr>\n",
       "    <tr>\n",
       "      <th>7</th>\n",
       "      <td>Accident</td>\n",
       "      <td>1982-01-01</td>\n",
       "      <td>Airplane</td>\n",
       "      <td>Substantial</td>\n",
       "      <td>Non-Fatal</td>\n",
       "    </tr>\n",
       "    <tr>\n",
       "      <th>8</th>\n",
       "      <td>Accident</td>\n",
       "      <td>1982-01-01</td>\n",
       "      <td>Airplane</td>\n",
       "      <td>Substantial</td>\n",
       "      <td>Non-Fatal</td>\n",
       "    </tr>\n",
       "    <tr>\n",
       "      <th>12</th>\n",
       "      <td>Accident</td>\n",
       "      <td>1982-01-02</td>\n",
       "      <td>Airplane</td>\n",
       "      <td>Destroyed</td>\n",
       "      <td>Non-Fatal</td>\n",
       "    </tr>\n",
       "    <tr>\n",
       "      <th>13</th>\n",
       "      <td>Accident</td>\n",
       "      <td>1982-01-02</td>\n",
       "      <td>Airplane</td>\n",
       "      <td>Destroyed</td>\n",
       "      <td>Fatal(1)</td>\n",
       "    </tr>\n",
       "  </tbody>\n",
       "</table>\n",
       "</div>"
      ],
      "text/plain": [
       "   Investigation.Type  Event.Date Aircraft.Category Aircraft.damage  \\\n",
       "5            Accident  1979-09-17          Airplane     Substantial   \n",
       "7            Accident  1982-01-01          Airplane     Substantial   \n",
       "8            Accident  1982-01-01          Airplane     Substantial   \n",
       "12           Accident  1982-01-02          Airplane       Destroyed   \n",
       "13           Accident  1982-01-02          Airplane       Destroyed   \n",
       "\n",
       "   Injury.Severity  \n",
       "5        Non-Fatal  \n",
       "7        Non-Fatal  \n",
       "8        Non-Fatal  \n",
       "12       Non-Fatal  \n",
       "13        Fatal(1)  "
      ]
     },
     "execution_count": 95,
     "metadata": {},
     "output_type": "execute_result"
    }
   ],
   "source": [
    "df.head()"
   ]
  },
  {
   "cell_type": "code",
   "execution_count": 96,
   "metadata": {},
   "outputs": [
    {
     "data": {
      "text/plain": [
       "Substantial    25389\n",
       "Destroyed       4223\n",
       "Minor           1098\n",
       "Unknown          119\n",
       "Name: Aircraft.damage, dtype: int64"
      ]
     },
     "execution_count": 96,
     "metadata": {},
     "output_type": "execute_result"
    }
   ],
   "source": [
    "df['Aircraft.damage'].value_counts()"
   ]
  },
  {
   "cell_type": "markdown",
   "metadata": {},
   "source": [
    "We do not need damage values that are unkown and can group the rest of aircraft damages."
   ]
  },
  {
   "cell_type": "markdown",
   "metadata": {},
   "source": [
    "### FILTER ACCORDINGLY"
   ]
  },
  {
   "cell_type": "markdown",
   "metadata": {},
   "source": [
    "We need to filter accordingly into groups of aircrafts with MOST accidents and LEAST accidents"
   ]
  },
  {
   "cell_type": "code",
   "execution_count": 97,
   "metadata": {},
   "outputs": [
    {
     "data": {
      "text/plain": [
       "(32287, 5)"
      ]
     },
     "execution_count": 97,
     "metadata": {},
     "output_type": "execute_result"
    }
   ],
   "source": [
    "df.shape"
   ]
  },
  {
   "cell_type": "code",
   "execution_count": 98,
   "metadata": {},
   "outputs": [
    {
     "data": {
      "text/plain": [
       "(30710, 5)"
      ]
     },
     "execution_count": 98,
     "metadata": {},
     "output_type": "execute_result"
    }
   ],
   "source": [
    "#create a filter to filter our data to only substantial, destroyed and minor\n",
    "damages_list = ['Substantial', 'Destroyed', 'Minor']\n",
    "df = df[df['Aircraft.damage'].isin(damages_list)]\n",
    "df.shape"
   ]
  },
  {
   "cell_type": "markdown",
   "metadata": {},
   "source": [
    "##### Substantial Filter"
   ]
  },
  {
   "cell_type": "code",
   "execution_count": 99,
   "metadata": {},
   "outputs": [
    {
     "data": {
      "text/plain": [
       "Aircraft.Category  Aircraft.damage\n",
       "Airplane           Substantial        21719\n",
       "Helicopter         Substantial         2720\n",
       "Glider             Substantial          458\n",
       "Gyrocraft          Substantial          147\n",
       "Balloon            Substantial           75\n",
       "dtype: int64"
      ]
     },
     "execution_count": 99,
     "metadata": {},
     "output_type": "execute_result"
    }
   ],
   "source": [
    "#filter further to have only top five and bottom five and compare tith damage\n",
    "filt_df = df[df['Aircraft.Category'].isin(top_5_most_accidents.index) & (df['Aircraft.damage'] == 'Substantial')]\n",
    "filt_df[['Aircraft.Category','Aircraft.damage']].value_counts()"
   ]
  },
  {
   "cell_type": "code",
   "execution_count": 100,
   "metadata": {},
   "outputs": [
    {
     "data": {
      "text/plain": [
       "Aircraft.Category  Aircraft.damage\n",
       "Blimp              Substantial        3\n",
       "Powered-Lift       Substantial        2\n",
       "ULTR               Substantial        1\n",
       "dtype: int64"
      ]
     },
     "execution_count": 100,
     "metadata": {},
     "output_type": "execute_result"
    }
   ],
   "source": [
    "#BOTTOM\n",
    "bottom_filt_df = df[df['Aircraft.Category'].isin(bottom_5_least_accidents.index) & (df['Aircraft.damage'] == 'Substantial')]\n",
    "bottom_filt_df[['Aircraft.Category','Aircraft.damage']].value_counts()"
   ]
  },
  {
   "cell_type": "code",
   "execution_count": 101,
   "metadata": {},
   "outputs": [
    {
     "data": {
      "text/plain": [
       "Aircraft.Category  Aircraft.damage\n",
       "Blimp              Substantial        3\n",
       "Powered-Lift       Substantial        2\n",
       "ULTR               Substantial        1\n",
       "dtype: int64"
      ]
     },
     "execution_count": 101,
     "metadata": {},
     "output_type": "execute_result"
    }
   ],
   "source": [
    "bottom_5_substantial = bottom_filt_df[['Aircraft.Category','Aircraft.damage']].value_counts()\n",
    "bottom_5_substantial"
   ]
  },
  {
   "cell_type": "code",
   "execution_count": 102,
   "metadata": {},
   "outputs": [
    {
     "data": {
      "text/plain": [
       "Aircraft.Category  Aircraft.damage\n",
       "Airplane           Substantial        21719\n",
       "Helicopter         Substantial         2720\n",
       "Glider             Substantial          458\n",
       "Gyrocraft          Substantial          147\n",
       "Balloon            Substantial           75\n",
       "dtype: int64"
      ]
     },
     "execution_count": 102,
     "metadata": {},
     "output_type": "execute_result"
    }
   ],
   "source": [
    "top_5_substantial = filt_df[['Aircraft.Category','Aircraft.damage']].value_counts()\n",
    "top_5_substantial"
   ]
  },
  {
   "cell_type": "code",
   "execution_count": 103,
   "metadata": {},
   "outputs": [
    {
     "data": {
      "text/html": [
       "<div>\n",
       "<style scoped>\n",
       "    .dataframe tbody tr th:only-of-type {\n",
       "        vertical-align: middle;\n",
       "    }\n",
       "\n",
       "    .dataframe tbody tr th {\n",
       "        vertical-align: top;\n",
       "    }\n",
       "\n",
       "    .dataframe thead th {\n",
       "        text-align: right;\n",
       "    }\n",
       "</style>\n",
       "<table border=\"1\" class=\"dataframe\">\n",
       "  <thead>\n",
       "    <tr style=\"text-align: right;\">\n",
       "      <th></th>\n",
       "      <th>Aircraft.Category</th>\n",
       "      <th>Aircraft.damage</th>\n",
       "      <th>Count</th>\n",
       "    </tr>\n",
       "  </thead>\n",
       "  <tbody>\n",
       "    <tr>\n",
       "      <th>0</th>\n",
       "      <td>Airplane</td>\n",
       "      <td>Substantial</td>\n",
       "      <td>21719</td>\n",
       "    </tr>\n",
       "    <tr>\n",
       "      <th>1</th>\n",
       "      <td>Helicopter</td>\n",
       "      <td>Substantial</td>\n",
       "      <td>2720</td>\n",
       "    </tr>\n",
       "    <tr>\n",
       "      <th>2</th>\n",
       "      <td>Glider</td>\n",
       "      <td>Substantial</td>\n",
       "      <td>458</td>\n",
       "    </tr>\n",
       "    <tr>\n",
       "      <th>3</th>\n",
       "      <td>Gyrocraft</td>\n",
       "      <td>Substantial</td>\n",
       "      <td>147</td>\n",
       "    </tr>\n",
       "    <tr>\n",
       "      <th>4</th>\n",
       "      <td>Balloon</td>\n",
       "      <td>Substantial</td>\n",
       "      <td>75</td>\n",
       "    </tr>\n",
       "  </tbody>\n",
       "</table>\n",
       "</div>"
      ],
      "text/plain": [
       "  Aircraft.Category Aircraft.damage  Count\n",
       "0          Airplane     Substantial  21719\n",
       "1        Helicopter     Substantial   2720\n",
       "2            Glider     Substantial    458\n",
       "3         Gyrocraft     Substantial    147\n",
       "4           Balloon     Substantial     75"
      ]
     },
     "execution_count": 103,
     "metadata": {},
     "output_type": "execute_result"
    }
   ],
   "source": [
    "#we can add another column at the end for the values\n",
    "top_5_substantial = top_5_substantial.reset_index()\n",
    "top_5_substantial.columns = ['Aircraft.Category', 'Aircraft.damage', 'Count']\n",
    "top_5_substantial"
   ]
  },
  {
   "cell_type": "code",
   "execution_count": 104,
   "metadata": {},
   "outputs": [
    {
     "data": {
      "text/html": [
       "<div>\n",
       "<style scoped>\n",
       "    .dataframe tbody tr th:only-of-type {\n",
       "        vertical-align: middle;\n",
       "    }\n",
       "\n",
       "    .dataframe tbody tr th {\n",
       "        vertical-align: top;\n",
       "    }\n",
       "\n",
       "    .dataframe thead th {\n",
       "        text-align: right;\n",
       "    }\n",
       "</style>\n",
       "<table border=\"1\" class=\"dataframe\">\n",
       "  <thead>\n",
       "    <tr style=\"text-align: right;\">\n",
       "      <th></th>\n",
       "      <th>Aircraft.Category</th>\n",
       "      <th>Aircraft.damage</th>\n",
       "      <th>Count</th>\n",
       "    </tr>\n",
       "  </thead>\n",
       "  <tbody>\n",
       "    <tr>\n",
       "      <th>0</th>\n",
       "      <td>Blimp</td>\n",
       "      <td>Substantial</td>\n",
       "      <td>3</td>\n",
       "    </tr>\n",
       "    <tr>\n",
       "      <th>1</th>\n",
       "      <td>Powered-Lift</td>\n",
       "      <td>Substantial</td>\n",
       "      <td>2</td>\n",
       "    </tr>\n",
       "    <tr>\n",
       "      <th>2</th>\n",
       "      <td>ULTR</td>\n",
       "      <td>Substantial</td>\n",
       "      <td>1</td>\n",
       "    </tr>\n",
       "  </tbody>\n",
       "</table>\n",
       "</div>"
      ],
      "text/plain": [
       "  Aircraft.Category Aircraft.damage  Count\n",
       "0             Blimp     Substantial      3\n",
       "1      Powered-Lift     Substantial      2\n",
       "2              ULTR     Substantial      1"
      ]
     },
     "execution_count": 104,
     "metadata": {},
     "output_type": "execute_result"
    }
   ],
   "source": [
    "#we can add another column at the end for the values\n",
    "bottom_5_substantial = bottom_5_substantial.reset_index()\n",
    "bottom_5_substantial.columns = ['Aircraft.Category', 'Aircraft.damage', 'Count']\n",
    "bottom_5_substantial"
   ]
  },
  {
   "cell_type": "markdown",
   "metadata": {},
   "source": [
    "##### Destroyed Filter"
   ]
  },
  {
   "cell_type": "code",
   "execution_count": 105,
   "metadata": {},
   "outputs": [
    {
     "data": {
      "text/html": [
       "<div>\n",
       "<style scoped>\n",
       "    .dataframe tbody tr th:only-of-type {\n",
       "        vertical-align: middle;\n",
       "    }\n",
       "\n",
       "    .dataframe tbody tr th {\n",
       "        vertical-align: top;\n",
       "    }\n",
       "\n",
       "    .dataframe thead th {\n",
       "        text-align: right;\n",
       "    }\n",
       "</style>\n",
       "<table border=\"1\" class=\"dataframe\">\n",
       "  <thead>\n",
       "    <tr style=\"text-align: right;\">\n",
       "      <th></th>\n",
       "      <th>Aircraft.Category</th>\n",
       "      <th>Aircraft.damage</th>\n",
       "      <th>Count</th>\n",
       "    </tr>\n",
       "  </thead>\n",
       "  <tbody>\n",
       "    <tr>\n",
       "      <th>0</th>\n",
       "      <td>Airplane</td>\n",
       "      <td>Destroyed</td>\n",
       "      <td>3552</td>\n",
       "    </tr>\n",
       "    <tr>\n",
       "      <th>1</th>\n",
       "      <td>Helicopter</td>\n",
       "      <td>Destroyed</td>\n",
       "      <td>569</td>\n",
       "    </tr>\n",
       "    <tr>\n",
       "      <th>2</th>\n",
       "      <td>Glider</td>\n",
       "      <td>Destroyed</td>\n",
       "      <td>36</td>\n",
       "    </tr>\n",
       "    <tr>\n",
       "      <th>3</th>\n",
       "      <td>Gyrocraft</td>\n",
       "      <td>Destroyed</td>\n",
       "      <td>25</td>\n",
       "    </tr>\n",
       "    <tr>\n",
       "      <th>4</th>\n",
       "      <td>Balloon</td>\n",
       "      <td>Destroyed</td>\n",
       "      <td>15</td>\n",
       "    </tr>\n",
       "  </tbody>\n",
       "</table>\n",
       "</div>"
      ],
      "text/plain": [
       "  Aircraft.Category Aircraft.damage  Count\n",
       "0          Airplane       Destroyed   3552\n",
       "1        Helicopter       Destroyed    569\n",
       "2            Glider       Destroyed     36\n",
       "3         Gyrocraft       Destroyed     25\n",
       "4           Balloon       Destroyed     15"
      ]
     },
     "execution_count": 105,
     "metadata": {},
     "output_type": "execute_result"
    }
   ],
   "source": [
    "filt2_df = df[df['Aircraft.Category'].isin(top_5_most_accidents.index) & (df['Aircraft.damage'] == 'Destroyed')]\n",
    "top_5_destroyed = filt2_df[['Aircraft.Category','Aircraft.damage']].value_counts()\n",
    "#we can add another column at the end for the values\n",
    "top_5_destroyed = top_5_destroyed.reset_index()\n",
    "top_5_destroyed.columns = ['Aircraft.Category', 'Aircraft.damage', 'Count']\n",
    "top_5_destroyed"
   ]
  },
  {
   "cell_type": "code",
   "execution_count": 106,
   "metadata": {},
   "outputs": [
    {
     "data": {
      "text/html": [
       "<div>\n",
       "<style scoped>\n",
       "    .dataframe tbody tr th:only-of-type {\n",
       "        vertical-align: middle;\n",
       "    }\n",
       "\n",
       "    .dataframe tbody tr th {\n",
       "        vertical-align: top;\n",
       "    }\n",
       "\n",
       "    .dataframe thead th {\n",
       "        text-align: right;\n",
       "    }\n",
       "</style>\n",
       "<table border=\"1\" class=\"dataframe\">\n",
       "  <thead>\n",
       "    <tr style=\"text-align: right;\">\n",
       "      <th></th>\n",
       "      <th>Aircraft.Category</th>\n",
       "      <th>Aircraft.damage</th>\n",
       "      <th>Count</th>\n",
       "    </tr>\n",
       "  </thead>\n",
       "  <tbody>\n",
       "    <tr>\n",
       "      <th>0</th>\n",
       "      <td>Blimp</td>\n",
       "      <td>Destroyed</td>\n",
       "      <td>1</td>\n",
       "    </tr>\n",
       "    <tr>\n",
       "      <th>1</th>\n",
       "      <td>Powered-Lift</td>\n",
       "      <td>Destroyed</td>\n",
       "      <td>1</td>\n",
       "    </tr>\n",
       "    <tr>\n",
       "      <th>2</th>\n",
       "      <td>Rocket</td>\n",
       "      <td>Destroyed</td>\n",
       "      <td>1</td>\n",
       "    </tr>\n",
       "  </tbody>\n",
       "</table>\n",
       "</div>"
      ],
      "text/plain": [
       "  Aircraft.Category Aircraft.damage  Count\n",
       "0             Blimp       Destroyed      1\n",
       "1      Powered-Lift       Destroyed      1\n",
       "2            Rocket       Destroyed      1"
      ]
     },
     "execution_count": 106,
     "metadata": {},
     "output_type": "execute_result"
    }
   ],
   "source": [
    "#BOTTOM\n",
    "bottom_filt2_df = df[df['Aircraft.Category'].isin(bottom_5_least_accidents.index) & (df['Aircraft.damage'] == 'Destroyed')]\n",
    "bottom_5_destroyed = bottom_filt2_df[['Aircraft.Category','Aircraft.damage']].value_counts()\n",
    "#we can add another column at the end for the values\n",
    "bottom_5_destroyed = bottom_5_destroyed.reset_index()\n",
    "bottom_5_destroyed.columns = ['Aircraft.Category', 'Aircraft.damage', 'Count']\n",
    "bottom_5_destroyed\n"
   ]
  },
  {
   "cell_type": "markdown",
   "metadata": {},
   "source": [
    "##### Minor Filter"
   ]
  },
  {
   "cell_type": "code",
   "execution_count": 107,
   "metadata": {},
   "outputs": [
    {
     "data": {
      "text/html": [
       "<div>\n",
       "<style scoped>\n",
       "    .dataframe tbody tr th:only-of-type {\n",
       "        vertical-align: middle;\n",
       "    }\n",
       "\n",
       "    .dataframe tbody tr th {\n",
       "        vertical-align: top;\n",
       "    }\n",
       "\n",
       "    .dataframe thead th {\n",
       "        text-align: right;\n",
       "    }\n",
       "</style>\n",
       "<table border=\"1\" class=\"dataframe\">\n",
       "  <thead>\n",
       "    <tr style=\"text-align: right;\">\n",
       "      <th></th>\n",
       "      <th>Aircraft.Category</th>\n",
       "      <th>Aircraft.damage</th>\n",
       "      <th>Count</th>\n",
       "    </tr>\n",
       "  </thead>\n",
       "  <tbody>\n",
       "    <tr>\n",
       "      <th>0</th>\n",
       "      <td>Airplane</td>\n",
       "      <td>Minor</td>\n",
       "      <td>964</td>\n",
       "    </tr>\n",
       "    <tr>\n",
       "      <th>1</th>\n",
       "      <td>Helicopter</td>\n",
       "      <td>Minor</td>\n",
       "      <td>65</td>\n",
       "    </tr>\n",
       "    <tr>\n",
       "      <th>2</th>\n",
       "      <td>Balloon</td>\n",
       "      <td>Minor</td>\n",
       "      <td>45</td>\n",
       "    </tr>\n",
       "    <tr>\n",
       "      <th>3</th>\n",
       "      <td>Glider</td>\n",
       "      <td>Minor</td>\n",
       "      <td>9</td>\n",
       "    </tr>\n",
       "    <tr>\n",
       "      <th>4</th>\n",
       "      <td>Gyrocraft</td>\n",
       "      <td>Minor</td>\n",
       "      <td>1</td>\n",
       "    </tr>\n",
       "  </tbody>\n",
       "</table>\n",
       "</div>"
      ],
      "text/plain": [
       "  Aircraft.Category Aircraft.damage  Count\n",
       "0          Airplane           Minor    964\n",
       "1        Helicopter           Minor     65\n",
       "2           Balloon           Minor     45\n",
       "3            Glider           Minor      9\n",
       "4         Gyrocraft           Minor      1"
      ]
     },
     "execution_count": 107,
     "metadata": {},
     "output_type": "execute_result"
    }
   ],
   "source": [
    "filt3_df = df[df['Aircraft.Category'].isin(top_5_most_accidents.index) & (df['Aircraft.damage'] == 'Minor')]\n",
    "top_5_minor = filt3_df[['Aircraft.Category','Aircraft.damage']].value_counts()\n",
    "#we can add another column at the end for the values\n",
    "top_5_minor = top_5_minor.reset_index()\n",
    "top_5_minor.columns = ['Aircraft.Category', 'Aircraft.damage', 'Count']\n",
    "top_5_minor"
   ]
  },
  {
   "cell_type": "code",
   "execution_count": 108,
   "metadata": {},
   "outputs": [
    {
     "data": {
      "text/html": [
       "<div>\n",
       "<style scoped>\n",
       "    .dataframe tbody tr th:only-of-type {\n",
       "        vertical-align: middle;\n",
       "    }\n",
       "\n",
       "    .dataframe tbody tr th {\n",
       "        vertical-align: top;\n",
       "    }\n",
       "\n",
       "    .dataframe thead th {\n",
       "        text-align: right;\n",
       "    }\n",
       "</style>\n",
       "<table border=\"1\" class=\"dataframe\">\n",
       "  <thead>\n",
       "    <tr style=\"text-align: right;\">\n",
       "      <th></th>\n",
       "      <th>Aircraft.Category</th>\n",
       "      <th>Aircraft.damage</th>\n",
       "      <th>Count</th>\n",
       "    </tr>\n",
       "  </thead>\n",
       "  <tbody>\n",
       "    <tr>\n",
       "      <th>0</th>\n",
       "      <td>Powered-Lift</td>\n",
       "      <td>Minor</td>\n",
       "      <td>1</td>\n",
       "    </tr>\n",
       "  </tbody>\n",
       "</table>\n",
       "</div>"
      ],
      "text/plain": [
       "  Aircraft.Category Aircraft.damage  Count\n",
       "0      Powered-Lift           Minor      1"
      ]
     },
     "execution_count": 108,
     "metadata": {},
     "output_type": "execute_result"
    }
   ],
   "source": [
    "#BOTTOM\n",
    "bottom_filt3_df = df[df['Aircraft.Category'].isin(bottom_5_least_accidents.index) & (df['Aircraft.damage'] == 'Minor')]\n",
    "bottom_5_minor = bottom_filt3_df[['Aircraft.Category','Aircraft.damage']].value_counts()\n",
    "#we can add another column at the end for the values\n",
    "bottom_5_minor = bottom_5_minor.reset_index()\n",
    "bottom_5_minor.columns = ['Aircraft.Category', 'Aircraft.damage', 'Count']\n",
    "bottom_5_minor"
   ]
  },
  {
   "cell_type": "markdown",
   "metadata": {},
   "source": [
    "We have a single value where the damage is minor for bottom 10 aircrafts\n",
    "The only aircraft with minor damages is Powered-Lift"
   ]
  },
  {
   "cell_type": "markdown",
   "metadata": {},
   "source": [
    "## DISTRIBUTION GRAPHS OF DAMAGES TO AIRCRAFT CATEGORY"
   ]
  },
  {
   "cell_type": "markdown",
   "metadata": {},
   "source": [
    "#### TOP 5 AIRCRAFTS WITH MOST ACCIDENTS"
   ]
  },
  {
   "cell_type": "code",
   "execution_count": 109,
   "metadata": {},
   "outputs": [
    {
     "data": {
      "text/plain": [
       "Text(0, 0.5, 'Number of minor damages')"
      ]
     },
     "execution_count": 109,
     "metadata": {},
     "output_type": "execute_result"
    },
    {
     "data": {
      "image/png": "[encoded data removed]",
      "text/plain": [
       "<Figure size 1080x432 with 3 Axes>"
      ]
     },
     "metadata": {
      "needs_background": "light"
     },
     "output_type": "display_data"
    }
   ],
   "source": [
    "damages_fig, ax = plt.subplots(1, 3, figsize = (15,6))\n",
    "ax[0].scatter(top_5_substantial['Aircraft.Category'], top_5_substantial['Count'])\n",
    "ax[0].tick_params(axis=\"x\", labelrotation=45)\n",
    "ax[0].set_xlabel(\"Aircrafts with substantial damages\")\n",
    "ax[0].set_ylabel(\"Number of substantial damages\")\n",
    "\n",
    "\n",
    "ax[1].scatter(top_5_destroyed['Aircraft.Category'], top_5_destroyed['Count'])\n",
    "ax[1].tick_params(axis=\"x\", labelrotation=45)\n",
    "ax[1].set_xlabel(\"Aircrafts with damages as destroyed\")\n",
    "ax[1].set_ylabel(\"Number of destroyed damages\")\n",
    "ax[1].set_title(\"DAMAGES AGAINST AIRCRAFT CATEGORIES\")\n",
    "\n",
    "ax[2].scatter(top_5_minor['Aircraft.Category'], top_5_minor['Count'])\n",
    "ax[2].tick_params(axis=\"x\", labelrotation=45)\n",
    "ax[2].set_xlabel(\"Aircrafts with minor damages\")\n",
    "ax[2].set_ylabel(\"Number of minor damages\")\n",
    "\n"
   ]
  },
  {
   "cell_type": "markdown",
   "metadata": {},
   "source": [
    "#### OBSERVATIONS "
   ]
  },
  {
   "cell_type": "markdown",
   "metadata": {},
   "source": [
    "Airplanes have the most damages. They do so in terms of substantial damage, minor damage and destroyed\n",
    "Balloons have the least damages"
   ]
  },
  {
   "cell_type": "markdown",
   "metadata": {},
   "source": [
    "#### TOP 5 AIRCRAFTS WITH LEAST ACCIDENTS"
   ]
  },
  {
   "cell_type": "code",
   "execution_count": 110,
   "metadata": {},
   "outputs": [
    {
     "data": {
      "text/plain": [
       "Text(0.5, 1.0, 'DAMAGES (DESTROYED) AGAINST AIRCRAFT CATEGORIES')"
      ]
     },
     "execution_count": 110,
     "metadata": {},
     "output_type": "execute_result"
    },
    {
     "data": {
      "image/png": "[encoded data removed]",
      "text/plain": [
       "<Figure size 1080x432 with 2 Axes>"
      ]
     },
     "metadata": {
      "needs_background": "light"
     },
     "output_type": "display_data"
    }
   ],
   "source": [
    "bottom_damages_fig, ax = plt.subplots(1, 2, figsize = (15,6))\n",
    "ax[0].scatter(bottom_5_substantial['Aircraft.Category'], bottom_5_substantial['Count'])\n",
    "ax[0].tick_params(axis=\"x\", labelrotation=45)\n",
    "ax[0].set_xlabel(\"Aircrafts with substantial damages\")\n",
    "ax[0].set_ylabel(\"Number of substantial damages\")\n",
    "ax[0].set_title(\"SUBSTANTIAL DAMAGES AGAINST AIRCRAFT CATEGORIES\")\n",
    "\n",
    "\n",
    "ax[1].scatter(bottom_5_destroyed['Aircraft.Category'], bottom_5_destroyed['Count'])\n",
    "ax[1].tick_params(axis=\"x\", labelrotation=45)\n",
    "ax[1].set_xlabel(\"Aircrafts with damages as destroyed\")\n",
    "ax[1].set_ylabel(\"Number of destroyed damages\")\n",
    "ax[1].set_title(\"DAMAGES (DESTROYED) AGAINST AIRCRAFT CATEGORIES\")"
   ]
  },
  {
   "cell_type": "markdown",
   "metadata": {},
   "source": [
    "#### OBSERVATIONS"
   ]
  },
  {
   "cell_type": "markdown",
   "metadata": {},
   "source": [
    "For aicrafts with LEAST accident count:\n",
    "    Blimp has the most substantial damages while ULTR has the least\n",
    "    Blimp, Powered-Lift and Rockets have the same number or destroyed status"
   ]
  },
  {
   "cell_type": "markdown",
   "metadata": {},
   "source": [
    "## 3. DISTRIBUTION OF AIRCRAFT CATEGORY WITH INJURY SEVERITY"
   ]
  },
  {
   "cell_type": "code",
   "execution_count": 111,
   "metadata": {},
   "outputs": [
    {
     "data": {
      "text/plain": [
       "(30710, 5)"
      ]
     },
     "execution_count": 111,
     "metadata": {},
     "output_type": "execute_result"
    }
   ],
   "source": [
    "df.shape"
   ]
  },
  {
   "cell_type": "markdown",
   "metadata": {},
   "source": [
    "##### TOP 5 AIRCRAFTS WITH MOST ACCIDENTS"
   ]
  },
  {
   "cell_type": "markdown",
   "metadata": {},
   "source": [
    "We first filter to only have data with aircrafts with most accidents"
   ]
  },
  {
   "cell_type": "code",
   "execution_count": 112,
   "metadata": {},
   "outputs": [],
   "source": [
    "most_accidents_filt = df['Aircraft.Category'].isin(top_5_most_accidents.index)\n",
    "df = df[most_accidents_filt]"
   ]
  },
  {
   "cell_type": "code",
   "execution_count": 113,
   "metadata": {},
   "outputs": [
    {
     "data": {
      "text/plain": [
       "(30400, 5)"
      ]
     },
     "execution_count": 113,
     "metadata": {},
     "output_type": "execute_result"
    }
   ],
   "source": [
    "df.shape"
   ]
  },
  {
   "cell_type": "code",
   "execution_count": 114,
   "metadata": {},
   "outputs": [
    {
     "data": {
      "text/plain": [
       "Index(['Investigation.Type', 'Event.Date', 'Aircraft.Category',\n",
       "       'Aircraft.damage', 'Injury.Severity'],\n",
       "      dtype='object')"
      ]
     },
     "execution_count": 114,
     "metadata": {},
     "output_type": "execute_result"
    }
   ],
   "source": [
    "df.columns"
   ]
  },
  {
   "cell_type": "code",
   "execution_count": 115,
   "metadata": {},
   "outputs": [
    {
     "data": {
      "text/plain": [
       "Non-Fatal      23416\n",
       "Fatal           4955\n",
       "Fatal(1)         435\n",
       "Fatal(2)         303\n",
       "Minor            200\n",
       "Incident         181\n",
       "Serious          142\n",
       "Fatal(3)         115\n",
       "Fatal(4)          85\n",
       "Fatal(5)          27\n",
       "Fatal(6)          24\n",
       "Unavailable       22\n",
       "Fatal(7)          14\n",
       "Fatal(8)          13\n",
       "Fatal(10)          7\n",
       "Fatal(12)          5\n",
       "Fatal(14)          3\n",
       "Fatal(13)          3\n",
       "Fatal(154)         2\n",
       "Fatal(24)          1\n",
       "Fatal(20)          1\n",
       "Fatal(26)          1\n",
       "Fatal(65)          1\n",
       "Fatal(19)          1\n",
       "Fatal(169)         1\n",
       "Fatal(113)         1\n",
       "Fatal(131)         1\n",
       "Fatal(228)         1\n",
       "Fatal(18)          1\n",
       "Fatal(9)           1\n",
       "Fatal(35)          1\n",
       "Fatal(125)         1\n",
       "Fatal(160)         1\n",
       "Fatal(54)          1\n",
       "Fatal(16)          1\n",
       "Fatal(27)          1\n",
       "Fatal(17)          1\n",
       "Fatal(11)          1\n",
       "Fatal(97)          1\n",
       "Name: Injury.Severity, dtype: int64"
      ]
     },
     "execution_count": 115,
     "metadata": {},
     "output_type": "execute_result"
    }
   ],
   "source": [
    "df['Injury.Severity'].value_counts()"
   ]
  },
  {
   "cell_type": "code",
   "execution_count": 116,
   "metadata": {},
   "outputs": [
    {
     "data": {
      "text/plain": [
       "(30400, 5)"
      ]
     },
     "execution_count": 116,
     "metadata": {},
     "output_type": "execute_result"
    }
   ],
   "source": [
    "df.shape"
   ]
  },
  {
   "cell_type": "code",
   "execution_count": 117,
   "metadata": {},
   "outputs": [
    {
     "data": {
      "text/plain": [
       "(29972, 5)"
      ]
     },
     "execution_count": 117,
     "metadata": {},
     "output_type": "execute_result"
    }
   ],
   "source": [
    "df = df.dropna(axis = 'index', how = 'any', subset = ['Injury.Severity'])\n",
    "df.shape"
   ]
  },
  {
   "cell_type": "code",
   "execution_count": 118,
   "metadata": {},
   "outputs": [
    {
     "data": {
      "text/plain": [
       "(29972, 5)"
      ]
     },
     "execution_count": 118,
     "metadata": {},
     "output_type": "execute_result"
    }
   ],
   "source": [
    "#drop unavailable values\n",
    "unavailable_filt = df['Injury.Severity'] == 'Unavailable'\n",
    "df.drop(index = df[unavailable_filt].index)\n",
    "df.shape"
   ]
  },
  {
   "cell_type": "markdown",
   "metadata": {},
   "source": [
    "### Group the different types of fatalities"
   ]
  },
  {
   "cell_type": "code",
   "execution_count": 119,
   "metadata": {},
   "outputs": [
    {
     "data": {
      "text/plain": [
       "Non-Fatal      23416\n",
       "Fatal           4955\n",
       "Fatal(1)         435\n",
       "Fatal(2)         303\n",
       "Minor            200\n",
       "Incident         181\n",
       "Serious          142\n",
       "Fatal(3)         115\n",
       "Fatal(4)          85\n",
       "Fatal(5)          27\n",
       "Fatal(6)          24\n",
       "Unavailable       22\n",
       "Fatal(7)          14\n",
       "Fatal(8)          13\n",
       "Fatal(10)          7\n",
       "Fatal(12)          5\n",
       "Fatal(14)          3\n",
       "Fatal(13)          3\n",
       "Fatal(154)         2\n",
       "Fatal(9)           1\n",
       "Fatal(11)          1\n",
       "Fatal(17)          1\n",
       "Fatal(27)          1\n",
       "Fatal(16)          1\n",
       "Fatal(54)          1\n",
       "Fatal(160)         1\n",
       "Fatal(125)         1\n",
       "Fatal(35)          1\n",
       "Fatal(24)          1\n",
       "Fatal(18)          1\n",
       "Fatal(228)         1\n",
       "Fatal(131)         1\n",
       "Fatal(113)         1\n",
       "Fatal(169)         1\n",
       "Fatal(19)          1\n",
       "Fatal(65)          1\n",
       "Fatal(26)          1\n",
       "Fatal(20)          1\n",
       "Fatal(97)          1\n",
       "Name: Injury.Severity, dtype: int64"
      ]
     },
     "execution_count": 119,
     "metadata": {},
     "output_type": "execute_result"
    }
   ],
   "source": [
    "df['Injury.Severity'].value_counts().sort_values(ascending = False)"
   ]
  },
  {
   "cell_type": "code",
   "execution_count": 120,
   "metadata": {},
   "outputs": [
    {
     "data": {
      "text/plain": [
       "Index(['Unavailable', 'Serious', 'Non-Fatal', 'Minor', 'Incident', 'Fatal(97)',\n",
       "       'Fatal(9)', 'Fatal(8)', 'Fatal(7)', 'Fatal(65)', 'Fatal(6)',\n",
       "       'Fatal(54)', 'Fatal(5)', 'Fatal(4)', 'Fatal(35)', 'Fatal(3)',\n",
       "       'Fatal(27)', 'Fatal(26)', 'Fatal(24)', 'Fatal(228)', 'Fatal(20)',\n",
       "       'Fatal(2)', 'Fatal(19)', 'Fatal(18)', 'Fatal(17)', 'Fatal(169)',\n",
       "       'Fatal(160)', 'Fatal(16)', 'Fatal(154)', 'Fatal(14)', 'Fatal(131)',\n",
       "       'Fatal(13)', 'Fatal(125)', 'Fatal(12)', 'Fatal(113)', 'Fatal(11)',\n",
       "       'Fatal(10)', 'Fatal(1)', 'Fatal'],\n",
       "      dtype='object')"
      ]
     },
     "execution_count": 120,
     "metadata": {},
     "output_type": "execute_result"
    }
   ],
   "source": [
    "df['Injury.Severity'].value_counts().index.sort_values(ascending = False)"
   ]
  },
  {
   "cell_type": "markdown",
   "metadata": {},
   "source": [
    "Above are the fatalities recorded per accident"
   ]
  },
  {
   "cell_type": "markdown",
   "metadata": {},
   "source": [
    "Group them to a single list of fatalities greater than 0, Non-fatal, Minor together with incident,\n",
    "and serious\n",
    "\n",
    "Once grouped we can group them further to only have the values for top 5 accidents"
   ]
  },
  {
   "cell_type": "code",
   "execution_count": 121,
   "metadata": {},
   "outputs": [
    {
     "data": {
      "text/plain": [
       "(29972, 5)"
      ]
     },
     "execution_count": 121,
     "metadata": {},
     "output_type": "execute_result"
    }
   ],
   "source": [
    "df.shape"
   ]
  },
  {
   "cell_type": "markdown",
   "metadata": {},
   "source": [
    "#### FATALITIES GROUP  1 (TOP 5 AIRCRAFTS WITH MOST ACCIDENTS)"
   ]
  },
  {
   "cell_type": "code",
   "execution_count": 122,
   "metadata": {},
   "outputs": [
    {
     "data": {
      "text/plain": [
       "Aircraft.Category  Injury.Severity\n",
       "Airplane           Fatal(2)           278\n",
       "                   Fatal(3)            90\n",
       "                   Fatal(4)            76\n",
       "                   Fatal(5)            26\n",
       "Helicopter         Fatal(3)            24\n",
       "                   Fatal(2)            24\n",
       "Airplane           Fatal(6)            21\n",
       "                   Fatal(7)            13\n",
       "                   Fatal(8)            13\n",
       "Helicopter         Fatal(4)             8\n",
       "Airplane           Fatal(10)            7\n",
       "                   Fatal(12)            4\n",
       "Helicopter         Fatal(6)             3\n",
       "                   Fatal(14)            2\n",
       "Airplane           Fatal(154)           2\n",
       "                   Fatal(13)            2\n",
       "Helicopter         Fatal(13)            1\n",
       "Gyrocraft          Fatal(2)             1\n",
       "Balloon            Fatal(4)             1\n",
       "                   Fatal(3)             1\n",
       "Airplane           Fatal(97)            1\n",
       "                   Fatal(9)             1\n",
       "Helicopter         Fatal(5)             1\n",
       "Airplane           Fatal(65)            1\n",
       "Helicopter         Fatal(12)            1\n",
       "Airplane           Fatal(35)            1\n",
       "                   Fatal(54)            1\n",
       "                   Fatal(11)            1\n",
       "                   Fatal(113)           1\n",
       "                   Fatal(125)           1\n",
       "                   Fatal(131)           1\n",
       "                   Fatal(14)            1\n",
       "                   Fatal(16)            1\n",
       "                   Fatal(160)           1\n",
       "                   Fatal(169)           1\n",
       "                   Fatal(17)            1\n",
       "                   Fatal(18)            1\n",
       "                   Fatal(19)            1\n",
       "                   Fatal(20)            1\n",
       "                   Fatal(228)           1\n",
       "                   Fatal(24)            1\n",
       "                   Fatal(26)            1\n",
       "                   Fatal(27)            1\n",
       "Helicopter         Fatal(7)             1\n",
       "dtype: int64"
      ]
     },
     "execution_count": 122,
     "metadata": {},
     "output_type": "execute_result"
    }
   ],
   "source": [
    "# we can filter to have  various groups of fatalitites together\n",
    "\n",
    "#filter for fatalities above one\n",
    "fatalitites_list = ['Fatal(97)', 'Fatal(9)','Fatal(8)', 'Fatal(7)', 'Fatal(65)', 'Fatal(6)',\n",
    "                    'Fatal(54)',\n",
    "                    'Fatal(5)', 'Fatal(4)', 'Fatal(35)', 'Fatal(3)', 'Fatal(27)',\n",
    "                    'Fatal(26)', 'Fatal(24)', 'Fatal(228)', 'Fatal(20)', 'Fatal(2)',\n",
    "                    'Fatal(19)', 'Fatal(18)', 'Fatal(17)', 'Fatal(169)', 'Fatal(160)',\n",
    "                    'Fatal(16)', 'Fatal(154)', 'Fatal(14)', 'Fatal(131)', 'Fatal(13)',\n",
    "                    'Fatal(125)', 'Fatal(12)', 'Fatal(113)', 'Fatal(11)', 'Fatal(10)']\n",
    "\n",
    "fatalities_filt = (df['Injury.Severity'].isin(fatalitites_list))\n",
    "fatalities_df = df[fatalities_filt]\n",
    "fatalities_df[['Aircraft.Category','Injury.Severity']].value_counts()\n"
   ]
  },
  {
   "cell_type": "code",
   "execution_count": 123,
   "metadata": {},
   "outputs": [
    {
     "data": {
      "text/plain": [
       "Fatal(2)      278\n",
       "Fatal(3)       90\n",
       "Fatal(4)       76\n",
       "Fatal(5)       26\n",
       "Fatal(6)       21\n",
       "Fatal(8)       13\n",
       "Fatal(7)       13\n",
       "Fatal(10)       7\n",
       "Fatal(12)       4\n",
       "Fatal(13)       2\n",
       "Fatal(154)      2\n",
       "Fatal(17)       1\n",
       "Fatal(169)      1\n",
       "Fatal(113)      1\n",
       "Fatal(26)       1\n",
       "Fatal(19)       1\n",
       "Fatal(65)       1\n",
       "Fatal(20)       1\n",
       "Fatal(24)       1\n",
       "Fatal(14)       1\n",
       "Fatal(131)      1\n",
       "Fatal(18)       1\n",
       "Fatal(27)       1\n",
       "Fatal(9)        1\n",
       "Fatal(228)      1\n",
       "Fatal(35)       1\n",
       "Fatal(125)      1\n",
       "Fatal(11)       1\n",
       "Fatal(160)      1\n",
       "Fatal(54)       1\n",
       "Fatal(16)       1\n",
       "Fatal(97)       1\n",
       "Name: Injury.Severity, dtype: int64"
      ]
     },
     "execution_count": 123,
     "metadata": {},
     "output_type": "execute_result"
    }
   ],
   "source": [
    "airplane_fatalities_filt = fatalities_df['Aircraft.Category'] == 'Airplane'\n",
    "airplane_fatalities = fatalities_df[airplane_fatalities_filt]\n",
    "airplane_fatalities['Injury.Severity'].value_counts()"
   ]
  },
  {
   "cell_type": "markdown",
   "metadata": {},
   "source": [
    "We can now graph fatalities for airplanes"
   ]
  },
  {
   "cell_type": "code",
   "execution_count": 124,
   "metadata": {},
   "outputs": [
    {
     "data": {
      "text/plain": [
       "Text(0.5, 1.0, 'AIRPLANE FATALITIES')"
      ]
     },
     "execution_count": 124,
     "metadata": {},
     "output_type": "execute_result"
    },
    {
     "data": {
      "image/png": "[encoded data removed]",
      "text/plain": [
       "<Figure size 1152x360 with 1 Axes>"
      ]
     },
     "metadata": {
      "needs_background": "light"
     },
     "output_type": "display_data"
    }
   ],
   "source": [
    "airplane_fatalities_fig, ax = plt.subplots(figsize=(16, 5))\n",
    "top_10_airplane_fatalities = airplane_fatalities['Injury.Severity'].value_counts()\n",
    "\n",
    "ax.plot(top_10_airplane_fatalities.index, top_10_airplane_fatalities.values)\n",
    "\n",
    "ax.tick_params(axis=\"x\", labelrotation=45)\n",
    "ax.set_xlabel(\"Fatalities\")\n",
    "ax.set_ylabel(\"Number of occurrences\")\n",
    "ax.set_title(\"AIRPLANE FATALITIES\")\n"
   ]
  },
  {
   "cell_type": "code",
   "execution_count": 125,
   "metadata": {},
   "outputs": [
    {
     "data": {
      "text/plain": [
       "17.28125"
      ]
     },
     "execution_count": 125,
     "metadata": {},
     "output_type": "execute_result"
    }
   ],
   "source": [
    "top_10_airplane_fatalities.values.mean()"
   ]
  },
  {
   "cell_type": "markdown",
   "metadata": {},
   "source": [
    "Airplanes have the highest count of occurences of fatalities with the highest fatalities count \n",
    "to be 228\n"
   ]
  },
  {
   "cell_type": "code",
   "execution_count": 126,
   "metadata": {},
   "outputs": [
    {
     "data": {
      "text/plain": [
       "Text(0.5, 1.0, 'HELICOPTER FATALITIES')"
      ]
     },
     "execution_count": 126,
     "metadata": {},
     "output_type": "execute_result"
    },
    {
     "data": {
      "image/png": "[encoded data removed]",
      "text/plain": [
       "<Figure size 1152x360 with 1 Axes>"
      ]
     },
     "metadata": {
      "needs_background": "light"
     },
     "output_type": "display_data"
    }
   ],
   "source": [
    "helicopter_fatalities_filt = fatalities_df['Aircraft.Category'] == 'Helicopter'\n",
    "helicopter_fatalities = fatalities_df[helicopter_fatalities_filt]\n",
    "#helicopter_fatalities['Injury.Severity'].value_counts()\n",
    "\n",
    "helicopter_fatalities_fig, ax = plt.subplots(figsize=(16, 5))\n",
    "helicopter_fatalities = helicopter_fatalities['Injury.Severity'].value_counts()\n",
    "\n",
    "ax.bar(helicopter_fatalities.index, helicopter_fatalities.values)\n",
    "\n",
    "ax.tick_params(axis=\"x\", labelrotation=45)\n",
    "ax.set_xlabel(\"Fatalities\")\n",
    "ax.set_ylabel(\"Number of occurrences\")\n",
    "ax.set_title(\"HELICOPTER FATALITIES\")"
   ]
  },
  {
   "cell_type": "code",
   "execution_count": 127,
   "metadata": {},
   "outputs": [
    {
     "data": {
      "text/plain": [
       "7.222222222222222"
      ]
     },
     "execution_count": 127,
     "metadata": {},
     "output_type": "execute_result"
    }
   ],
   "source": [
    "helicopter_fatalities.values.mean() "
   ]
  },
  {
   "cell_type": "markdown",
   "metadata": {},
   "source": [
    "#### OBSERVATIONS"
   ]
  },
  {
   "cell_type": "markdown",
   "metadata": {},
   "source": [
    "Occurence count for fatalities in helicpters is less than 30\n",
    "Highest fatality is 13"
   ]
  },
  {
   "cell_type": "code",
   "execution_count": 128,
   "metadata": {},
   "outputs": [
    {
     "data": {
      "text/plain": [
       "(0, 5)"
      ]
     },
     "execution_count": 128,
     "metadata": {},
     "output_type": "execute_result"
    }
   ],
   "source": [
    "glider_fatalities_filt = fatalities_df['Aircraft.Category'] == 'Glider'\n",
    "glider_fatalities = fatalities_df[glider_fatalities_filt]\n",
    "glider_fatalities['Injury.Severity'].value_counts()\n",
    "glider_fatalities.shape"
   ]
  },
  {
   "cell_type": "markdown",
   "metadata": {},
   "source": [
    "We don't have any fatalities for Gliders"
   ]
  },
  {
   "cell_type": "code",
   "execution_count": 129,
   "metadata": {},
   "outputs": [
    {
     "data": {
      "text/plain": [
       "Fatal(3)    1\n",
       "Fatal(4)    1\n",
       "Name: Injury.Severity, dtype: int64"
      ]
     },
     "execution_count": 129,
     "metadata": {},
     "output_type": "execute_result"
    }
   ],
   "source": [
    "balloon_fatalities_filt = fatalities_df['Aircraft.Category'] == 'Balloon'\n",
    "balloon_fatalities = fatalities_df[balloon_fatalities_filt]\n",
    "balloon_fatalities['Injury.Severity'].value_counts()\n"
   ]
  },
  {
   "cell_type": "markdown",
   "metadata": {},
   "source": [
    "Balloons have a total of 2 accidents with 3 and 4 fatalities"
   ]
  },
  {
   "cell_type": "code",
   "execution_count": 130,
   "metadata": {},
   "outputs": [
    {
     "data": {
      "text/plain": [
       "Text(0.5, 1.0, 'BALLOON FATALITIES')"
      ]
     },
     "execution_count": 130,
     "metadata": {},
     "output_type": "execute_result"
    },
    {
     "data": {
      "image/png": "[encoded data removed]",
      "text/plain": [
       "<Figure size 1152x360 with 1 Axes>"
      ]
     },
     "metadata": {
      "needs_background": "light"
     },
     "output_type": "display_data"
    }
   ],
   "source": [
    "balloon_fatalities_fig, ax = plt.subplots(figsize=(16, 5))\n",
    "balloon_fatalities_counts = balloon_fatalities['Injury.Severity'].value_counts()\n",
    "\n",
    "ax.scatter(balloon_fatalities_counts.index, balloon_fatalities_counts.values)\n",
    "\n",
    "ax.tick_params(axis=\"x\", labelrotation=45)\n",
    "ax.set_xlabel(\"Fatalities\")\n",
    "ax.set_ylabel(\"Number of occurrences\")\n",
    "ax.set_title(\"BALLOON FATALITIES\")"
   ]
  },
  {
   "cell_type": "markdown",
   "metadata": {},
   "source": [
    "#### OBSERVATIONS"
   ]
  },
  {
   "cell_type": "markdown",
   "metadata": {},
   "source": [
    "Balloons have a total of 2 accidents with 3 and 4 fatalities"
   ]
  },
  {
   "cell_type": "code",
   "execution_count": 131,
   "metadata": {},
   "outputs": [
    {
     "data": {
      "text/plain": [
       "Fatal(2)    1\n",
       "Name: Injury.Severity, dtype: int64"
      ]
     },
     "execution_count": 131,
     "metadata": {},
     "output_type": "execute_result"
    }
   ],
   "source": [
    "gyrocraft_fatalities_filt = fatalities_df['Aircraft.Category'] == 'Gyrocraft'\n",
    "gyrocraft_fatalities = fatalities_df[gyrocraft_fatalities_filt]\n",
    "gyrocraft_fatalities['Injury.Severity'].value_counts()"
   ]
  },
  {
   "cell_type": "markdown",
   "metadata": {},
   "source": [
    "Gyrocrafts have a single accident with 2 fatalities"
   ]
  },
  {
   "cell_type": "code",
   "execution_count": 132,
   "metadata": {},
   "outputs": [
    {
     "data": {
      "text/plain": [
       "Text(0.5, 1.0, 'GYROCRAFT FATALITIES')"
      ]
     },
     "execution_count": 132,
     "metadata": {},
     "output_type": "execute_result"
    },
    {
     "data": {
      "image/png": "[encoded data removed]",
      "text/plain": [
       "<Figure size 1152x360 with 1 Axes>"
      ]
     },
     "metadata": {
      "needs_background": "light"
     },
     "output_type": "display_data"
    }
   ],
   "source": [
    "gyrocraft_fatalities_fig, ax = plt.subplots(figsize=(16, 5))\n",
    "gyrocraft_fatalities_counts = gyrocraft_fatalities['Injury.Severity'].value_counts()\n",
    "\n",
    "ax.scatter(gyrocraft_fatalities_counts.index,gyrocraft_fatalities_counts.values)\n",
    "\n",
    "ax.tick_params(axis=\"x\", labelrotation=45)\n",
    "ax.set_xlabel(\"Fatalities\")\n",
    "ax.set_ylabel(\"Number of occurrences\")\n",
    "ax.set_title(\"GYROCRAFT FATALITIES\")"
   ]
  },
  {
   "cell_type": "markdown",
   "metadata": {},
   "source": [
    "#### OBSERVATIONS "
   ]
  },
  {
   "cell_type": "markdown",
   "metadata": {},
   "source": [
    "Gyrocrafts have a single accident with 2 fatalities"
   ]
  },
  {
   "cell_type": "code",
   "execution_count": 133,
   "metadata": {},
   "outputs": [
    {
     "data": {
      "text/plain": [
       "Airplane      25860\n",
       "Helicopter     3301\n",
       "Glider          503\n",
       "Gyrocraft       173\n",
       "Balloon         135\n",
       "Name: Aircraft.Category, dtype: int64"
      ]
     },
     "execution_count": 133,
     "metadata": {},
     "output_type": "execute_result"
    }
   ],
   "source": [
    "df['Aircraft.Category'].value_counts()"
   ]
  },
  {
   "cell_type": "markdown",
   "metadata": {},
   "source": [
    "##### TOP 5 AIRCRAFTS WITH LEAST ACCIDENTS"
   ]
  },
  {
   "cell_type": "code",
   "execution_count": 134,
   "metadata": {},
   "outputs": [
    {
     "data": {
      "text/plain": [
       "(0, 5)"
      ]
     },
     "execution_count": 134,
     "metadata": {},
     "output_type": "execute_result"
    }
   ],
   "source": [
    "least_accidents_filt = df['Aircraft.Category'].isin(bottom_5_least_accidents.index)\n",
    "least_accidents_df = df[least_accidents_filt]\n",
    "least_accidents_df.shape"
   ]
  },
  {
   "cell_type": "markdown",
   "metadata": {},
   "source": [
    "We have zero rows of aircrafts with the LEAST accident count"
   ]
  },
  {
   "cell_type": "markdown",
   "metadata": {},
   "source": [
    "#### FATALITIES GROUP 2 (NON-FATAL, SERIOUS,MINOR AND INCIDENT)"
   ]
  },
  {
   "cell_type": "markdown",
   "metadata": {},
   "source": [
    "Group all the rest of injuries as a single non-fatal list."
   ]
  },
  {
   "cell_type": "code",
   "execution_count": 135,
   "metadata": {},
   "outputs": [],
   "source": [
    "#create non fatal injuries list\n",
    "non_fatal_injuries = ['Serious', 'Non-Fatal', 'Minor', 'Incident']"
   ]
  },
  {
   "cell_type": "code",
   "execution_count": 136,
   "metadata": {},
   "outputs": [
    {
     "data": {
      "text/plain": [
       "Non-Fatal    23416\n",
       "Minor          200\n",
       "Incident       181\n",
       "Serious        142\n",
       "Name: Injury.Severity, dtype: int64"
      ]
     },
     "execution_count": 136,
     "metadata": {},
     "output_type": "execute_result"
    }
   ],
   "source": [
    "#filter our dataframe to analyse non fatal injuries\n",
    "non_fatal_filter = df['Injury.Severity'].isin(non_fatal_injuries)\n",
    "non_fatal_df = df[non_fatal_filter]\n",
    "non_fatal_df['Injury.Severity'].value_counts()"
   ]
  },
  {
   "cell_type": "markdown",
   "metadata": {},
   "source": [
    "As we can see we have 23416 Non-Fatal, 200 Minor , 181 Incident, 142 Serious Injuries.     "
   ]
  },
  {
   "cell_type": "code",
   "execution_count": 137,
   "metadata": {},
   "outputs": [
    {
     "data": {
      "text/html": [
       "<div>\n",
       "<style scoped>\n",
       "    .dataframe tbody tr th:only-of-type {\n",
       "        vertical-align: middle;\n",
       "    }\n",
       "\n",
       "    .dataframe tbody tr th {\n",
       "        vertical-align: top;\n",
       "    }\n",
       "\n",
       "    .dataframe thead th {\n",
       "        text-align: right;\n",
       "    }\n",
       "</style>\n",
       "<table border=\"1\" class=\"dataframe\">\n",
       "  <thead>\n",
       "    <tr style=\"text-align: right;\">\n",
       "      <th></th>\n",
       "      <th>Investigation.Type</th>\n",
       "      <th>Event.Date</th>\n",
       "      <th>Aircraft.Category</th>\n",
       "      <th>Aircraft.damage</th>\n",
       "      <th>Injury.Severity</th>\n",
       "    </tr>\n",
       "  </thead>\n",
       "  <tbody>\n",
       "    <tr>\n",
       "      <th>5</th>\n",
       "      <td>Accident</td>\n",
       "      <td>1979-09-17</td>\n",
       "      <td>Airplane</td>\n",
       "      <td>Substantial</td>\n",
       "      <td>Non-Fatal</td>\n",
       "    </tr>\n",
       "    <tr>\n",
       "      <th>7</th>\n",
       "      <td>Accident</td>\n",
       "      <td>1982-01-01</td>\n",
       "      <td>Airplane</td>\n",
       "      <td>Substantial</td>\n",
       "      <td>Non-Fatal</td>\n",
       "    </tr>\n",
       "    <tr>\n",
       "      <th>8</th>\n",
       "      <td>Accident</td>\n",
       "      <td>1982-01-01</td>\n",
       "      <td>Airplane</td>\n",
       "      <td>Substantial</td>\n",
       "      <td>Non-Fatal</td>\n",
       "    </tr>\n",
       "    <tr>\n",
       "      <th>12</th>\n",
       "      <td>Accident</td>\n",
       "      <td>1982-01-02</td>\n",
       "      <td>Airplane</td>\n",
       "      <td>Destroyed</td>\n",
       "      <td>Non-Fatal</td>\n",
       "    </tr>\n",
       "    <tr>\n",
       "      <th>16</th>\n",
       "      <td>Accident</td>\n",
       "      <td>1982-01-02</td>\n",
       "      <td>Helicopter</td>\n",
       "      <td>Destroyed</td>\n",
       "      <td>Non-Fatal</td>\n",
       "    </tr>\n",
       "    <tr>\n",
       "      <th>...</th>\n",
       "      <td>...</td>\n",
       "      <td>...</td>\n",
       "      <td>...</td>\n",
       "      <td>...</td>\n",
       "      <td>...</td>\n",
       "    </tr>\n",
       "    <tr>\n",
       "      <th>88869</th>\n",
       "      <td>Accident</td>\n",
       "      <td>2022-12-13</td>\n",
       "      <td>Airplane</td>\n",
       "      <td>Substantial</td>\n",
       "      <td>Non-Fatal</td>\n",
       "    </tr>\n",
       "    <tr>\n",
       "      <th>88873</th>\n",
       "      <td>Accident</td>\n",
       "      <td>2022-12-14</td>\n",
       "      <td>Airplane</td>\n",
       "      <td>Substantial</td>\n",
       "      <td>Non-Fatal</td>\n",
       "    </tr>\n",
       "    <tr>\n",
       "      <th>88876</th>\n",
       "      <td>Accident</td>\n",
       "      <td>2022-12-15</td>\n",
       "      <td>Airplane</td>\n",
       "      <td>Substantial</td>\n",
       "      <td>Non-Fatal</td>\n",
       "    </tr>\n",
       "    <tr>\n",
       "      <th>88877</th>\n",
       "      <td>Accident</td>\n",
       "      <td>2022-12-16</td>\n",
       "      <td>Airplane</td>\n",
       "      <td>Substantial</td>\n",
       "      <td>Minor</td>\n",
       "    </tr>\n",
       "    <tr>\n",
       "      <th>88886</th>\n",
       "      <td>Accident</td>\n",
       "      <td>2022-12-26</td>\n",
       "      <td>Airplane</td>\n",
       "      <td>Substantial</td>\n",
       "      <td>Non-Fatal</td>\n",
       "    </tr>\n",
       "  </tbody>\n",
       "</table>\n",
       "<p>23939 rows × 5 columns</p>\n",
       "</div>"
      ],
      "text/plain": [
       "      Investigation.Type  Event.Date Aircraft.Category Aircraft.damage  \\\n",
       "5               Accident  1979-09-17          Airplane     Substantial   \n",
       "7               Accident  1982-01-01          Airplane     Substantial   \n",
       "8               Accident  1982-01-01          Airplane     Substantial   \n",
       "12              Accident  1982-01-02          Airplane       Destroyed   \n",
       "16              Accident  1982-01-02        Helicopter       Destroyed   \n",
       "...                  ...         ...               ...             ...   \n",
       "88869           Accident  2022-12-13          Airplane     Substantial   \n",
       "88873           Accident  2022-12-14          Airplane     Substantial   \n",
       "88876           Accident  2022-12-15          Airplane     Substantial   \n",
       "88877           Accident  2022-12-16          Airplane     Substantial   \n",
       "88886           Accident  2022-12-26          Airplane     Substantial   \n",
       "\n",
       "      Injury.Severity  \n",
       "5           Non-Fatal  \n",
       "7           Non-Fatal  \n",
       "8           Non-Fatal  \n",
       "12          Non-Fatal  \n",
       "16          Non-Fatal  \n",
       "...               ...  \n",
       "88869       Non-Fatal  \n",
       "88873       Non-Fatal  \n",
       "88876       Non-Fatal  \n",
       "88877           Minor  \n",
       "88886       Non-Fatal  \n",
       "\n",
       "[23939 rows x 5 columns]"
      ]
     },
     "execution_count": 137,
     "metadata": {},
     "output_type": "execute_result"
    }
   ],
   "source": [
    "non_fatal_df"
   ]
  },
  {
   "cell_type": "markdown",
   "metadata": {},
   "source": [
    "##### TOP 5 AIRCRAFTS WITH  MOST ACCIDENTS"
   ]
  },
  {
   "cell_type": "code",
   "execution_count": 138,
   "metadata": {},
   "outputs": [
    {
     "data": {
      "text/plain": [
       "Airplane      20740\n",
       "Helicopter     2522\n",
       "Glider          418\n",
       "Gyrocraft       136\n",
       "Balloon         123\n",
       "Name: Aircraft.Category, dtype: int64"
      ]
     },
     "execution_count": 138,
     "metadata": {},
     "output_type": "execute_result"
    }
   ],
   "source": [
    "#apply a filter to generate only aircrafts in the list of top 5 aircrafts with MOST accidents\n",
    "non_fatal_airplane_filt = (non_fatal_df['Aircraft.Category'] == 'Airplane') | (non_fatal_df['Aircraft.Category'] == 'Helicopter')| (non_fatal_df['Aircraft.Category'] == 'Glider') | (non_fatal_df['Aircraft.Category'] == 'Balloon') | (non_fatal_df['Aircraft.Category'] == 'Gyrocraft')    \n",
    "non_fatal_airplane = non_fatal_df[non_fatal_airplane_filt]\n",
    "non_fatal_airplane['Aircraft.Category'].value_counts()\n"
   ]
  },
  {
   "cell_type": "code",
   "execution_count": 139,
   "metadata": {},
   "outputs": [
    {
     "data": {
      "text/plain": [
       "Text(0.5, 1.0, 'NON FATALITIES DISTRIBUTION')"
      ]
     },
     "execution_count": 139,
     "metadata": {},
     "output_type": "execute_result"
    },
    {
     "data": {
      "image/png": "[encoded data removed]",
      "text/plain": [
       "<Figure size 1152x360 with 1 Axes>"
      ]
     },
     "metadata": {
      "needs_background": "light"
     },
     "output_type": "display_data"
    }
   ],
   "source": [
    "non_fatalities_fig, ax = plt.subplots(figsize=(16, 5))\n",
    "non_fatalities = non_fatal_airplane['Aircraft.Category'].value_counts().head(10)\n",
    "\n",
    "ax.bar(non_fatalities.index, non_fatalities.values)\n",
    "\n",
    "ax.tick_params(axis=\"x\", labelrotation=45)\n",
    "ax.set_xlabel(\"Non_Fatalities\")\n",
    "ax.set_ylabel(\"Number of occurrences\")\n",
    "ax.set_title(\"NON FATALITIES DISTRIBUTION\")\n"
   ]
  },
  {
   "cell_type": "markdown",
   "metadata": {},
   "source": [
    "#### OBSERVATIONS"
   ]
  },
  {
   "cell_type": "markdown",
   "metadata": {},
   "source": [
    "Airplanes have the highest non fatalities occurrence of more than the other aicrafts "
   ]
  },
  {
   "cell_type": "markdown",
   "metadata": {},
   "source": [
    "##### TOP 5 AIRCRAFTS WITH LEAST ACCIDENTS"
   ]
  },
  {
   "cell_type": "markdown",
   "metadata": {},
   "source": [
    "We are goint to use the top 5 aircafts with the LEAST accidents."
   ]
  },
  {
   "cell_type": "code",
   "execution_count": 140,
   "metadata": {},
   "outputs": [
    {
     "data": {
      "text/plain": [
       "Index(['Blimp', 'Powered-Lift', 'UNK', 'Rocket', 'ULTR'], dtype='object')"
      ]
     },
     "execution_count": 140,
     "metadata": {},
     "output_type": "execute_result"
    }
   ],
   "source": [
    "#view top aircrafts with LEAST accidents\n",
    "bottom_5_least_accidents.index"
   ]
  },
  {
   "cell_type": "code",
   "execution_count": 141,
   "metadata": {},
   "outputs": [
    {
     "data": {
      "text/plain": [
       "(0, 5)"
      ]
     },
     "execution_count": 141,
     "metadata": {},
     "output_type": "execute_result"
    }
   ],
   "source": [
    "non_fatal_airplane_filt_bottom = (non_fatal_df['Aircraft.Category'] == 'Blimp') | (non_fatal_df['Aircraft.Category'] == 'Powered-Lift ')| (non_fatal_df['Aircraft.Category'] == 'UNK') | (non_fatal_df['Aircraft.Category'] == 'Rocket') | (non_fatal_df['Aircraft.Category'] == 'ULTR')    \n",
    "non_fatal_airplane_bottom = non_fatal_df[non_fatal_airplane_filt_bottom]\n",
    "non_fatal_airplane_bottom['Aircraft.Category'].value_counts()\n",
    "non_fatal_airplane_bottom.shape"
   ]
  },
  {
   "cell_type": "markdown",
   "metadata": {},
   "source": [
    "We have zero rows of Aircrafts with the least accidents. This is in comparison with the list of\n",
    "the bottom 10 with most accidents. This indicates that all accidents for Blimp, Powered-Lift, UNK, Rocket, ULTR are FATAL."
   ]
  },
  {
   "cell_type": "markdown",
   "metadata": {},
   "source": [
    "# FINDINGS\n",
    "The aircrafts with most accidents are Airplane, Helicopter, Glider, Balloon and Gyrocraft\n",
    "The aircrafts with LEAST accidents are Blimp, Powered-Lift, UNK, Rocket, ULTR\n",
    "Airplanes have the most damages. They do so in terms of substantial damage, minor damage and destroyed\n",
    "Balloons have the least damages\n",
    "For aicrafts with LEAST accident count:\n",
    "    Blimp has the most substantial damages while ULTR has the least\n",
    "    Blimp, Powered-Lift and Rockets have the same number or destroyed status\n",
    "\n",
    "Airplanes have the highest count of occurences of fatalities with the highest fatalities count \n",
    "to be 228\n",
    "2 or 3 fatalities in a crash are the most occurrent with upto counts of 250 in occurrence\n",
    "\n",
    "Occurence count for fatalities in helicpters is less than 30\n",
    "Highest fatality is 13\n",
    "\n",
    "Balloons have a total of 2 accidents with 3 and 4 fatalities\n",
    "\n",
    "Gyrocrafts have a single accident with 2 fatalities\n",
    "\n",
    "Airplanes have the highest non fatalities occurrence of more than the other aicrafts(above 20000)\n",
    "Followed by helicopters, glider, gyrocraft and balloon\n"
   ]
  },
  {
   "cell_type": "markdown",
   "metadata": {},
   "source": [
    "## CONCLUSION"
   ]
  },
  {
   "cell_type": "markdown",
   "metadata": {},
   "source": [
    "Airplanes have the highest fatality occurrences with an average of 17 followed by helicopters \n",
    "with an average fatality occurrence count of 7. They however also have the highest count of non fatalities followed by helicopters. Airplane count is up to 9 times of helicopter count.\n",
    "\n",
    "Aircrafts with least numbers of accidents DO NOT have any non fatalities values indicating all accidents are fatal\n",
    "\n",
    "Hence, I would recommend Airplanes for entry into business as this is the aircraft with the highest number of non fatalities, hence quite safe for consumers.\n",
    "The risk being considered here is in terms of the non-fatalities\n",
    "\n",
    "If the risk being considered is in terms of damages I would reccommend balloons as the have the least\n",
    "damages while airplanes have the most however accidents here result in fatalities only"
   ]
  }
 ],
 "metadata": {
  "kernelspec": {
   "display_name": "Python 3",
   "language": "python",
   "name": "python3"
  },
  "language_info": {
   "codemirror_mode": {
    "name": "ipython",
    "version": 3
   },
   "file_extension": ".py",
   "mimetype": "text/x-python",
   "name": "python",
   "nbconvert_exporter": "python",
   "pygments_lexer": "ipython3",
   "version": "3.8.5"
  }
 },
 "nbformat": 4,
 "nbformat_minor": 5
}
